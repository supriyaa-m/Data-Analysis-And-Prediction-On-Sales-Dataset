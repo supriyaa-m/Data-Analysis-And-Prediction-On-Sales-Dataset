{
 "cells": [
  {
   "cell_type": "code",
   "execution_count": 8,
   "id": "7aea9e17",
   "metadata": {},
   "outputs": [],
   "source": [
    "import pyspark\n",
    "from pyspark.sql import SparkSession"
   ]
  },
  {
   "cell_type": "code",
   "execution_count": 9,
   "id": "6bc1de96",
   "metadata": {},
   "outputs": [],
   "source": [
    "from pyspark.sql.functions import udf, struct, col\n",
    "from pyspark.sql.types import *"
   ]
  },
  {
   "cell_type": "code",
   "execution_count": 10,
   "id": "8632f005",
   "metadata": {},
   "outputs": [],
   "source": [
    "spark= SparkSession.builder.appName(\"Data Analysis\").config(\"spark.driver.memory\", \"4g\").getOrCreate()"
   ]
  },
  {
   "cell_type": "code",
   "execution_count": 11,
   "id": "c92b4f6d",
   "metadata": {},
   "outputs": [],
   "source": [
    "business_df = spark.read.json(\"C:\\Supriyaa-spark-notes\\yelp\\yelp_academic_dataset_business.json\")\n",
    "user_df = spark.read.json(\"C:\\Supriyaa-spark-notes\\yelp\\yelp_academic_dataset_user.json\")\n",
    "review_df = spark.read.json(\"C:\\Supriyaa-spark-notes\\yelp\\yelp_academic_dataset_review.json\")\n",
    "checkin_df = spark.read.json(\"C:\\Supriyaa-spark-notes\\yelp\\yelp_academic_dataset_checkin.json\")\n",
    "tip_df = spark.read.json(\"C:\\Supriyaa-spark-notes\\yelp\\yelp_academic_dataset_tip.json\")"
   ]
  },
  {
   "cell_type": "code",
   "execution_count": 5,
   "id": "89b9a972",
   "metadata": {},
   "outputs": [
    {
     "name": "stdout",
     "output_type": "stream",
     "text": [
      "root\n",
      " |-- address: string (nullable = true)\n",
      " |-- attributes: struct (nullable = true)\n",
      " |    |-- AcceptsInsurance: string (nullable = true)\n",
      " |    |-- AgesAllowed: string (nullable = true)\n",
      " |    |-- Alcohol: string (nullable = true)\n",
      " |    |-- Ambience: string (nullable = true)\n",
      " |    |-- BYOB: string (nullable = true)\n",
      " |    |-- BYOBCorkage: string (nullable = true)\n",
      " |    |-- BestNights: string (nullable = true)\n",
      " |    |-- BikeParking: string (nullable = true)\n",
      " |    |-- BusinessAcceptsBitcoin: string (nullable = true)\n",
      " |    |-- BusinessAcceptsCreditCards: string (nullable = true)\n",
      " |    |-- BusinessParking: string (nullable = true)\n",
      " |    |-- ByAppointmentOnly: string (nullable = true)\n",
      " |    |-- Caters: string (nullable = true)\n",
      " |    |-- CoatCheck: string (nullable = true)\n",
      " |    |-- Corkage: string (nullable = true)\n",
      " |    |-- DietaryRestrictions: string (nullable = true)\n",
      " |    |-- DogsAllowed: string (nullable = true)\n",
      " |    |-- DriveThru: string (nullable = true)\n",
      " |    |-- GoodForDancing: string (nullable = true)\n",
      " |    |-- GoodForKids: string (nullable = true)\n",
      " |    |-- GoodForMeal: string (nullable = true)\n",
      " |    |-- HairSpecializesIn: string (nullable = true)\n",
      " |    |-- HappyHour: string (nullable = true)\n",
      " |    |-- HasTV: string (nullable = true)\n",
      " |    |-- Music: string (nullable = true)\n",
      " |    |-- NoiseLevel: string (nullable = true)\n",
      " |    |-- Open24Hours: string (nullable = true)\n",
      " |    |-- OutdoorSeating: string (nullable = true)\n",
      " |    |-- RestaurantsAttire: string (nullable = true)\n",
      " |    |-- RestaurantsCounterService: string (nullable = true)\n",
      " |    |-- RestaurantsDelivery: string (nullable = true)\n",
      " |    |-- RestaurantsGoodForGroups: string (nullable = true)\n",
      " |    |-- RestaurantsPriceRange2: string (nullable = true)\n",
      " |    |-- RestaurantsReservations: string (nullable = true)\n",
      " |    |-- RestaurantsTableService: string (nullable = true)\n",
      " |    |-- RestaurantsTakeOut: string (nullable = true)\n",
      " |    |-- Smoking: string (nullable = true)\n",
      " |    |-- WheelchairAccessible: string (nullable = true)\n",
      " |    |-- WiFi: string (nullable = true)\n",
      " |-- business_id: string (nullable = true)\n",
      " |-- categories: string (nullable = true)\n",
      " |-- city: string (nullable = true)\n",
      " |-- hours: struct (nullable = true)\n",
      " |    |-- Friday: string (nullable = true)\n",
      " |    |-- Monday: string (nullable = true)\n",
      " |    |-- Saturday: string (nullable = true)\n",
      " |    |-- Sunday: string (nullable = true)\n",
      " |    |-- Thursday: string (nullable = true)\n",
      " |    |-- Tuesday: string (nullable = true)\n",
      " |    |-- Wednesday: string (nullable = true)\n",
      " |-- is_open: long (nullable = true)\n",
      " |-- latitude: double (nullable = true)\n",
      " |-- longitude: double (nullable = true)\n",
      " |-- name: string (nullable = true)\n",
      " |-- postal_code: string (nullable = true)\n",
      " |-- review_count: long (nullable = true)\n",
      " |-- stars: double (nullable = true)\n",
      " |-- state: string (nullable = true)\n",
      "\n"
     ]
    }
   ],
   "source": [
    "business_df.printSchema()"
   ]
  },
  {
   "cell_type": "code",
   "execution_count": 6,
   "id": "ae4912c6",
   "metadata": {},
   "outputs": [
    {
     "name": "stdout",
     "output_type": "stream",
     "text": [
      "root\n",
      " |-- average_stars: double (nullable = true)\n",
      " |-- compliment_cool: long (nullable = true)\n",
      " |-- compliment_cute: long (nullable = true)\n",
      " |-- compliment_funny: long (nullable = true)\n",
      " |-- compliment_hot: long (nullable = true)\n",
      " |-- compliment_list: long (nullable = true)\n",
      " |-- compliment_more: long (nullable = true)\n",
      " |-- compliment_note: long (nullable = true)\n",
      " |-- compliment_photos: long (nullable = true)\n",
      " |-- compliment_plain: long (nullable = true)\n",
      " |-- compliment_profile: long (nullable = true)\n",
      " |-- compliment_writer: long (nullable = true)\n",
      " |-- cool: long (nullable = true)\n",
      " |-- elite: string (nullable = true)\n",
      " |-- fans: long (nullable = true)\n",
      " |-- friends: string (nullable = true)\n",
      " |-- funny: long (nullable = true)\n",
      " |-- name: string (nullable = true)\n",
      " |-- review_count: long (nullable = true)\n",
      " |-- useful: long (nullable = true)\n",
      " |-- user_id: string (nullable = true)\n",
      " |-- yelping_since: string (nullable = true)\n",
      "\n"
     ]
    }
   ],
   "source": [
    "user_df.printSchema()"
   ]
  },
  {
   "cell_type": "code",
   "execution_count": 7,
   "id": "abdcf0e9",
   "metadata": {},
   "outputs": [
    {
     "name": "stdout",
     "output_type": "stream",
     "text": [
      "root\n",
      " |-- business_id: string (nullable = true)\n",
      " |-- cool: long (nullable = true)\n",
      " |-- date: string (nullable = true)\n",
      " |-- funny: long (nullable = true)\n",
      " |-- review_id: string (nullable = true)\n",
      " |-- stars: double (nullable = true)\n",
      " |-- text: string (nullable = true)\n",
      " |-- useful: long (nullable = true)\n",
      " |-- user_id: string (nullable = true)\n",
      "\n"
     ]
    }
   ],
   "source": [
    "review_df.printSchema()"
   ]
  },
  {
   "cell_type": "code",
   "execution_count": 8,
   "id": "2a323ed5",
   "metadata": {},
   "outputs": [
    {
     "name": "stdout",
     "output_type": "stream",
     "text": [
      "root\n",
      " |-- business_id: string (nullable = true)\n",
      " |-- date: string (nullable = true)\n",
      "\n"
     ]
    }
   ],
   "source": [
    "checkin_df.printSchema()"
   ]
  },
  {
   "cell_type": "code",
   "execution_count": 9,
   "id": "f3cf4664",
   "metadata": {
    "scrolled": true
   },
   "outputs": [
    {
     "name": "stdout",
     "output_type": "stream",
     "text": [
      "root\n",
      " |-- business_id: string (nullable = true)\n",
      " |-- compliment_count: long (nullable = true)\n",
      " |-- date: string (nullable = true)\n",
      " |-- text: string (nullable = true)\n",
      " |-- user_id: string (nullable = true)\n",
      "\n"
     ]
    }
   ],
   "source": [
    "tip_df.printSchema()"
   ]
  },
  {
   "cell_type": "code",
   "execution_count": 10,
   "id": "cbffd02a",
   "metadata": {},
   "outputs": [
    {
     "name": "stdout",
     "output_type": "stream",
     "text": [
      "Distinct Rows Count:\n",
      "Business: 150346\n",
      "Users: 1987897\n",
      "Review: 6990280\n",
      "Checkin: 131930\n",
      "Tips: 908848\n"
     ]
    }
   ],
   "source": [
    "# Count the distinct rows in each table\n",
    "business_count = business_df.distinct().count()\n",
    "user_count = user_df.distinct().count()\n",
    "review_count = review_df.distinct().count()\n",
    "checkin_count = checkin_df.distinct().count()\n",
    "tips_count = tip_df.distinct().count()\n",
    "# Print the total distinct rows count for each table\n",
    "print(\"Distinct Rows Count:\")\n",
    "print(\"Business:\", business_count)\n",
    "print(\"Users:\", user_count)\n",
    "print(\"Review:\", review_count)\n",
    "print(\"Checkin:\", checkin_count)\n",
    "print(\"Tips:\", tips_count)"
   ]
  },
  {
   "cell_type": "code",
   "execution_count": 12,
   "id": "f5508af7",
   "metadata": {},
   "outputs": [],
   "source": [
    "business_df.createOrReplaceTempView(\"business_table\")\n",
    "user_df.createOrReplaceTempView(\"user_table\")\n",
    "review_df.createOrReplaceTempView(\"review_table\")\n",
    "checkin_df.createOrReplaceTempView(\"checkin_table\")\n",
    "tip_df.createOrReplaceTempView(\"tip_table\")"
   ]
  },
  {
   "cell_type": "code",
   "execution_count": 12,
   "id": "d3dcfc31",
   "metadata": {},
   "outputs": [
    {
     "name": "stdout",
     "output_type": "stream",
     "text": [
      "+----------------------+------+----------------------+\n",
      "|user_id               |name  |average_business_count|\n",
      "+----------------------+------+----------------------+\n",
      "|F8vHZipbIVclQZEMEyOl9w|Beth  |16.0                  |\n",
      "|Sa6MxEeKd8euwZTsid4Tkg|Liz   |12.0                  |\n",
      "|I6x-ZBHeCNlMnmtfUVf5lg|Jeff  |10.0                  |\n",
      "|DI5CPhofkm-frITqdStCVw|Ken   |10.0                  |\n",
      "|cyFYb0DSjZLlaVUp7dsD3w|L.S.  |9.0                   |\n",
      "|Qix8WCSoQpwHoIt5YW6Vwg|Larrie|9.0                   |\n",
      "|RlYJZ3t8MrLz4tjuTHz2HQ|John  |8.0                   |\n",
      "|iwpEsTz2WPEuLVBiY_5bHw|Vishal|8.0                   |\n",
      "|EhWmDaaj8PEULAsy19baVg|Edith |8.0                   |\n",
      "|eedIxFP9WWpgFLQc77dwdg|Angela|7.0                   |\n",
      "+----------------------+------+----------------------+\n",
      "\n"
     ]
    }
   ],
   "source": [
    "#How many businesses does each user review on average?\n",
    "output = spark.sql(\n",
    "'''\n",
    "SELECT user_id, name, review_count / business_count AS average_business_count\n",
    "FROM (\n",
    "    SELECT u.user_id, u.name, COUNT(*) AS review_count,\n",
    "        COUNT(DISTINCT b.business_id) AS business_count\n",
    "    FROM user_table u, review_table r, business_table b\n",
    "    WHERE u.user_id = r.user_id\n",
    "        AND r.business_id = b.business_id\n",
    "    GROUP BY u.user_id, u.name\n",
    ") temp\n",
    "ORDER BY average_business_count DESC\n",
    "limit 10\n",
    "'''\n",
    ")\n",
    "output.show(truncate=False)\n",
    "output.write.option(\"header\",True).csv(\"C:/Supriyaa-spark-notes/tableau files/average_business_count.csv\")"
   ]
  },
  {
   "cell_type": "code",
   "execution_count": 13,
   "id": "277b0878",
   "metadata": {},
   "outputs": [
    {
     "name": "stdout",
     "output_type": "stream",
     "text": [
      "+----------------------+------------------------------+--------------------+\n",
      "|business_id           |name                          |avg_reviews_per_user|\n",
      "+----------------------+------------------------------+--------------------+\n",
      "|SCXkyyKWzS7qWl2jBiWQiQ|Governor Square Apartments    |3.71                |\n",
      "|YOdGWNE5nl73AUoWpFvyIg|RTC 4th Street Bus Station    |3.22                |\n",
      "|mgohMnfSufUDwDHSJTplVg|Vangard Lofts                 |3.0                 |\n",
      "|e_VHdaIRyiWrKqcCRVq3Bw|Essence of Beauty             |3.0                 |\n",
      "|TKJJu8cuKv4JkmgdC4lX4g|Ethan Allen Home Interiors    |2.83                |\n",
      "|nDyvVBvJnLlVp7H_Pb4BYA|Boise Airport Cab             |2.67                |\n",
      "|cuXUuoOSZ4VbV6jvh3BC0A|Subway                        |2.62                |\n",
      "|ISFPX6auJZwFd1QQttcJew|Camelot At Cinnaminson Harbour|2.5                 |\n",
      "|1vtI5aA07QE3c7f-g1Bppw|Las Brisas Apartment Homes    |2.4                 |\n",
      "|xTSi5C1QkHfHZ7cdqZ5VfA|Abigail Court                 |2.4                 |\n",
      "+----------------------+------------------------------+--------------------+\n",
      "\n"
     ]
    }
   ],
   "source": [
    "#businesses with the most active user base based on the highest average number of reviews per user\n",
    "output = spark.sql(\n",
    "'''\n",
    "SELECT b.business_id, b.name, round(r.avg_reviews_per_user,2) as avg_reviews_per_user\n",
    "FROM business_table b, \n",
    "(SELECT business_id, AVG(review_count) AS avg_reviews_per_user\n",
    "    FROM (\n",
    "        SELECT r.business_id, r.user_id, COUNT(*) AS review_count\n",
    "        FROM review_table AS r, user_table AS u\n",
    "        WHERE r.user_id = u.user_id\n",
    "        GROUP BY r.business_id, r.user_id\n",
    "    ) AS subquery\n",
    "    GROUP BY business_id\n",
    ") r\n",
    "WHERE b.business_id = r.business_id\n",
    "ORDER BY avg_reviews_per_user DESC\n",
    "LIMIT 10\n",
    "'''\n",
    ")\n",
    "output.show(truncate=False)\n",
    "output.write.option(\"header\",True).csv(\"C:/Supriyaa-spark-notes/tableau files/avg_reviews_per_user.csv\")"
   ]
  },
  {
   "cell_type": "code",
   "execution_count": 14,
   "id": "51cdfc3b",
   "metadata": {},
   "outputs": [
    {
     "name": "stdout",
     "output_type": "stream",
     "text": [
      "+--------------------+--------------+\n",
      "|          categories|average_rating|\n",
      "+--------------------+--------------+\n",
      "|Salad, Restaurant...|           5.0|\n",
      "|Veterinarians, Pe...|           5.0|\n",
      "|Professional Serv...|           5.0|\n",
      "|Physical Therapy,...|           5.0|\n",
      "|Airlines, Transpo...|           5.0|\n",
      "|Wedding Planning,...|           5.0|\n",
      "|Eyelash Service, ...|           5.0|\n",
      "|Windows Installat...|           5.0|\n",
      "|Traditional Chine...|           5.0|\n",
      "|Automotive, Home ...|           5.0|\n",
      "|Yoga, Trainers, A...|           5.0|\n",
      "|Men's Hair Salons...|           5.0|\n",
      "|Bikes, Shopping, ...|           5.0|\n",
      "|Wedding Planning,...|           5.0|\n",
      "|Wedding Planning,...|           5.0|\n",
      "|Health & Medical,...|           5.0|\n",
      "|Acupuncture, Heal...|           5.0|\n",
      "|Professional Serv...|           5.0|\n",
      "|Office Cleaning, ...|           5.0|\n",
      "|Massage Therapy, ...|           5.0|\n",
      "+--------------------+--------------+\n",
      "only showing top 20 rows\n",
      "\n"
     ]
    }
   ],
   "source": [
    "#user ratings vary across different business categories \n",
    "output = spark.sql(\n",
    "'''\n",
    "SELECT categories, AVG(stars) AS average_rating\n",
    "FROM business_table\n",
    "GROUP BY categories\n",
    "ORDER BY average_rating DESC\n",
    "'''\n",
    ")\n",
    "output.show()\n",
    "output.write.option(\"header\",True).csv(\"C:/Supriyaa-spark-notes/tableau files/average_rating.csv\")"
   ]
  },
  {
   "cell_type": "code",
   "execution_count": 15,
   "id": "c8b7328d",
   "metadata": {},
   "outputs": [
    {
     "name": "stdout",
     "output_type": "stream",
     "text": [
      "+--------------------+--------------------+--------------------+-----+\n",
      "|          categories|         business_id|                name|stars|\n",
      "+--------------------+--------------------+--------------------+-----+\n",
      "|Acai Bowls, Juice...|DQ8qh7o8clZo5wZ2X...|   Rahvia Acai Bowls|  4.0|\n",
      "|Acai Bowls, Organ...|RIN3ZEQmbqXh8ZYQ4...|    Good Vibes Juice|  4.5|\n",
      "|Accessories, Fash...|1r3ESnezvx0V17Hhn...|    Collective at MX|  4.5|\n",
      "|Accessories, Fash...|QohlZLW7Lt1DSCFZ3...|      Vineyard Vines|  3.5|\n",
      "|Accessories, Jewe...|12ONhB1nammjZWPXU...|Haute Women's Bou...|  5.0|\n",
      "|Accessories, Shop...|kgJ0N-a7ITVWQlEq9...|       Vamp Boutique|  3.5|\n",
      "|Accessories, Wome...|B9oez-fvFRD76en7p...|            Dress Up|  4.0|\n",
      "|Accessories, Wome...|7w-nj4YD5bhO_Jq4K...|United Apparel Li...|  4.0|\n",
      "|Active Life, Amus...|fUTl2cZOu5UdBBwtq...|  Skate Country East|  4.0|\n",
      "|Active Life, Arca...|vYglkvPqLy1Oa_sSs...|    Gateway Fun Park|  2.0|\n",
      "|Active Life, Arts...|KouCHiR1PT00qiT-V...|          Clue Carré|  4.5|\n",
      "|Active Life, Arts...|eOY90iizHH7sCLHCs...|Manufacturers Gol...|  5.0|\n",
      "|Active Life, Arts...|i5ZvIR4s2hH9rqoUi...|Code:Enigma Escap...|  5.0|\n",
      "|Active Life, Beac...|3cOuWVd6SQKLhIBBw...|   Rincon Beach Park|  4.5|\n",
      "|Active Life, Boat...|oFQXLbxtaS0cE3HUj...|  Idaho River Sports|  5.0|\n",
      "|Active Life, Bota...|LKPbZdn-P9ZqPTY6-...|The MK Morrison K...|  4.5|\n",
      "|Active Life, Bowl...|Jj4TRoceBE0dNpS1r...|Revolutions at Pe...|  2.5|\n",
      "|Active Life, Bowl...|6x6k00x3QMj22aicP...|Bowlero Feasterville|  2.5|\n",
      "|Active Life, Boxi...|LLM55Mpq3yjo36TJf...|Clearwater Boxing...|  4.5|\n",
      "|Active Life, Boxi...|vVJafKag9V4-4WeRh...|   TITLE Boxing Club|  3.5|\n",
      "+--------------------+--------------------+--------------------+-----+\n",
      "only showing top 20 rows\n",
      "\n"
     ]
    }
   ],
   "source": [
    "#top-rated businesses in each category\n",
    "output = spark.sql(\n",
    "'''\n",
    "SELECT categories, business_id, name, stars\n",
    "FROM (\n",
    "    SELECT categories, business_id, name, stars,\n",
    "        ROW_NUMBER() OVER (PARTITION BY categories ORDER BY stars DESC) AS rn\n",
    "    FROM business_table\n",
    ") AS subquery\n",
    "WHERE rn = 1\n",
    "'''\n",
    ")\n",
    "output.show()\n",
    "output.write.option(\"header\",True).csv(\"C:/Supriyaa-spark-notes/tableau files/top_rated_businesses_per_category.csv\")"
   ]
  },
  {
   "cell_type": "code",
   "execution_count": 14,
   "id": "7337f06d",
   "metadata": {},
   "outputs": [
    {
     "name": "stdout",
     "output_type": "stream",
     "text": [
      "+--------------------+--------+------------+------------------+--------------+\n",
      "|             user_id|    name|review_count|    average_rating|business_count|\n",
      "+--------------------+--------+------------+------------------+--------------+\n",
      "|_BcWyKQL16ndpBdgg...|   Karen|        3048|3.6377952755905514|          2199|\n",
      "|Xw7ZjaGfr0WNVt6s_...|Marielle|        1840| 4.072826086956522|          1754|\n",
      "|0Igx-a1wAstiBDerG...|     Jen|        1747|3.9902690326273613|          1471|\n",
      "|-G7Zkl1wIWBBmD0KR...|  Gerald|        1682| 3.652794292508918|          1549|\n",
      "|ET8n-r7glWYqZhuR6...|Michelle|        1653| 4.046581972171809|          1342|\n",
      "+--------------------+--------+------------+------------------+--------------+\n",
      "\n"
     ]
    }
   ],
   "source": [
    "#Top 5 influential users based on their reviews, ratings, and interactions with businesses\n",
    "output = spark.sql(\n",
    "'''\n",
    "SELECT r.user_id, u.name, COUNT(*) AS review_count, AVG(r.stars) AS average_rating, \n",
    "COUNT(DISTINCT r.business_id) AS business_count\n",
    "FROM review_table r, user_table u\n",
    "WHERE r.user_id = u.user_id\n",
    "GROUP BY r.user_id, u.name\n",
    "ORDER BY review_count DESC, average_rating DESC, business_count DESC\n",
    "LIMIT 5\n",
    "'''\n",
    ")\n",
    "output.show()\n",
    "output.write.option(\"header\",True).csv(\"C:/Supriyaa-spark-notes/tableau files/influencial_users.csv\")"
   ]
  },
  {
   "cell_type": "code",
   "execution_count": 7,
   "id": "0df2a866",
   "metadata": {},
   "outputs": [
    {
     "name": "stdout",
     "output_type": "stream",
     "text": [
      "+--------------------+-------+---------+----------+\n",
      "|             user_id|   name|tip_count|cool_votes|\n",
      "+--------------------+-------+---------+----------+\n",
      "|fCvMnJU1Z-XhAjKg9...|Michael|     4071|   1950009|\n",
      "|5Y5KbsI5buMcNh2hT...| Marcia|     1385|   4466625|\n",
      "|lMY8NBPyzlPbbu-KB...|Christy|     1373|  48994132|\n",
      "|qjfMBIZpQT9DDtw_B...| Rachel|     1230|  18724290|\n",
      "|Rr4cLb6Go91FT134o...|    Gem|     1230|     19680|\n",
      "|-G7Zkl1wIWBBmD0KR...| Gerald|     1035|  50018445|\n",
      "|sraTrYU-7q_bQ0TxQ...|  Brian|      902|  12929268|\n",
      "|I2XpWCHAom1JRyHXZ...|  Kathy|      821|   1117381|\n",
      "|xWmYN57XXZbg0LOK8...|   John|      813|    477231|\n",
      "|zYFGMy1_thjMnvQLX...|  Wanda|      782|   4719370|\n",
      "+--------------------+-------+---------+----------+\n",
      "\n"
     ]
    }
   ],
   "source": [
    "#Influential users who provide a high number of tips that receive \"cool\" votes\n",
    "output = spark.sql(\n",
    "'''\n",
    "SELECT u.user_id, u.name, COUNT(*) AS tip_count, SUM(u.cool) AS cool_votes\n",
    "FROM tip_table t, user_table u\n",
    "WHERE t.user_id = u.user_id\n",
    "GROUP BY u.user_id, u.name\n",
    "ORDER BY tip_count DESC, cool_votes DESC\n",
    "limit 10\n",
    "'''\n",
    ")\n",
    "output.show()\n",
    "output.write.option(\"header\",True).csv(\"C:/Supriyaa-spark-notes/tableau files/influencial_users_cool_tips.csv\")"
   ]
  },
  {
   "cell_type": "code",
   "execution_count": 12,
   "id": "fda56562",
   "metadata": {},
   "outputs": [
    {
     "name": "stdout",
     "output_type": "stream",
     "text": [
      "+-----+-------------+---------+\n",
      "|state|checkin_count|tip_count|\n",
      "+-----+-------------+---------+\n",
      "|   PA|        22793|    22793|\n",
      "|   FL|        17629|    17629|\n",
      "|   TN|         8076|     8076|\n",
      "|   IN|         8017|     8017|\n",
      "|   MO|         7814|     7814|\n",
      "|   LA|         7656|     7656|\n",
      "|   AZ|         6453|     6453|\n",
      "|   NJ|         5715|     5715|\n",
      "|   NV|         5038|     5038|\n",
      "|   AB|         3870|     3870|\n",
      "+-----+-------------+---------+\n",
      "\n"
     ]
    }
   ],
   "source": [
    "#distribution of check-ins and tips across different states\n",
    "output = spark.sql(\n",
    "'''\n",
    "SELECT b.state, COUNT(DISTINCT c.business_id) AS checkin_count, COUNT(DISTINCT t.business_id) AS tip_count\n",
    "FROM business_table b, checkin_table c, tip_table t\n",
    "WHERE b.business_id = c.business_id\n",
    "  AND b.business_id = t.business_id\n",
    "GROUP BY b.state\n",
    "ORDER BY checkin_count DESC, tip_count DESC\n",
    "limit 10\n",
    "'''\n",
    ")\n",
    "output.show()\n",
    "output.write.option(\"header\",True).csv(\"C:/Supriyaa-spark-notes/tableau files/dist_tip_checkin_region.csv\")"
   ]
  },
  {
   "cell_type": "code",
   "execution_count": 7,
   "id": "fe2c756b",
   "metadata": {},
   "outputs": [
    {
     "name": "stdout",
     "output_type": "stream",
     "text": [
      "+--------------------+--------------------+------------------+----------+\n",
      "|          categories|         business_id|    average_rating|total_tips|\n",
      "+--------------------+--------------------+------------------+----------+\n",
      "|ATV Rentals/Tours...|M-GMA5wbpjusPT04_...| 4.509803921568627|       204|\n",
      "|Acai Bowls, Ameri...|erCGkXWcik3Kij95v...| 3.241830065359477|      1989|\n",
      "|Acai Bowls, Asian...|x8AQIEjSqsW0z4vRy...|   4.1417004048583|      3952|\n",
      "|Acai Bowls, Coffe...|J_w5J7dgRpyB4GFiB...|            4.1875|       912|\n",
      "|Acai Bowls, Coffe...|4mYPqTpCjHqx8Ee4T...| 4.888888888888889|         9|\n",
      "|    Acai Bowls, Food|g4wOwXihlqSMuTHgp...| 4.428571428571429|         7|\n",
      "|Acai Bowls, Food ...|vdv_HaU7ZIID12KB9...| 3.557377049180328|      1098|\n",
      "|Acai Bowls, Food,...|NhZ8lnDbq6cJYJJ0w...| 4.244186046511628|       258|\n",
      "|Acai Bowls, Food,...|Hroul_wxzfjww2z1u...|3.9298245614035086|       684|\n",
      "|Acai Bowls, Food,...|D_xrWpy2G0Gc33sxP...| 4.305555555555555|       216|\n",
      "+--------------------+--------------------+------------------+----------+\n",
      "\n"
     ]
    }
   ],
   "source": [
    "#top-rated businesses in each category, considering both the average rating and the number of tips received\n",
    "output = spark.sql(\n",
    "'''\n",
    "WITH business_ratings AS (\n",
    "    SELECT b.business_id, b.categories, AVG(r.stars) AS average_rating, COUNT(t.business_id) AS tip_count\n",
    "    FROM business_table b, review_table r, tip_table t\n",
    "    WHERE b.business_id = r.business_id\n",
    "        AND b.business_id = t.business_id\n",
    "    GROUP BY b.business_id, b.categories\n",
    ")\n",
    "\n",
    "SELECT br.categories, br.business_id, AVG(br.average_rating) AS average_rating, SUM(br.tip_count) AS total_tips\n",
    "FROM business_ratings br, (\n",
    "    SELECT categories, MAX(average_rating) AS max_rating\n",
    "    FROM business_ratings\n",
    "    GROUP BY categories\n",
    ") top_ratings\n",
    "WHERE br.categories = top_ratings.categories AND br.average_rating = top_ratings.max_rating\n",
    "GROUP BY br.categories, br.business_id\n",
    "ORDER BY br.categories , average_rating DESC,total_tips desc\n",
    "limit 10\n",
    "'''\n",
    ")\n",
    "output.show()\n",
    "output.write.option(\"header\",True).csv(\"C:/Supriyaa-spark-notes/tableau files/top_bus_avgrat_notips.csv\")"
   ]
  },
  {
   "cell_type": "code",
   "execution_count": 14,
   "id": "f4ded062",
   "metadata": {},
   "outputs": [
    {
     "name": "stdout",
     "output_type": "stream",
     "text": [
      "+----------------------+------------------+-----+\n",
      "|total_avg_5_star_rtngs|total_review_count|month|\n",
      "+----------------------+------------------+-----+\n",
      "|              250480.0|            129701| 2016|\n",
      "|              245150.0|            136606| 2015|\n",
      "|              196535.0|            117880| 2014|\n",
      "|              183670.0|             89264| 2017|\n",
      "|              176655.0|             78359| 2018|\n",
      "|              150300.0|             97000| 2013|\n",
      "|              148305.0|             60967| 2019|\n",
      "|              126110.0|             83020| 2012|\n",
      "|               97745.0|             68566| 2011|\n",
      "|               70065.0|             26754| 2020|\n",
      "|               57440.0|             18810| 2021|\n",
      "|               46450.0|             34059| 2010|\n",
      "|               19855.0|             16626| 2009|\n",
      "|                5540.0|              5235| 2008|\n",
      "|                5025.0|              1149| 2022|\n",
      "|                1845.0|              1730| 2007|\n",
      "|                 580.0|               583| 2006|\n",
      "|                  75.0|                68| 2005|\n",
      "|                  15.0|                 7| 2004|\n",
      "+----------------------+------------------+-----+\n",
      "\n"
     ]
    }
   ],
   "source": [
    "#patterns or trends in user ratings over time\n",
    "output = spark.sql(\n",
    "'''\n",
    "SELECT SUM(average_stars) total_avg_5_star_rtngs,\n",
    "sum(review_count) total_review_count,\n",
    "date_format(yelping_since,'yyyy') as month\n",
    "from user_table\n",
    "where average_stars='5.0'\n",
    "group by date_format(yelping_since,'yyyy')\n",
    "order by total_avg_5_star_rtngs desc\n",
    "'''\n",
    ")\n",
    "output.show()\n",
    "output.write.option(\"header\",True).csv(\"C:/Supriyaa-spark-notes/tableau files/trends_ratings_reviews_user.csv\")"
   ]
  },
  {
   "cell_type": "code",
   "execution_count": 40,
   "id": "dff0ab5a",
   "metadata": {},
   "outputs": [
    {
     "name": "stdout",
     "output_type": "stream",
     "text": [
      "+--------------------+-----+-------------+---------------+--------------+--------------+\n",
      "|                name|state|     latitude|      longitude|average_rating|average_review|\n",
      "+--------------------+-----+-------------+---------------+--------------+--------------+\n",
      "|            Tumerico|   AZ|32.2277054884|-110.9347224981|           5.0|         705.0|\n",
      "|  Free Tours By Foot|   LA|   29.9253533|    -90.0799876|           5.0|         769.0|\n",
      "|     Gelato Dolceria|   NJ|39.8981422821|  -75.032111215|           5.0|         121.0|\n",
      "|          Buena Onda|   CA|   34.4246414|    -119.686693|           5.0|         414.0|\n",
      "|          Scalessa's|   DE|   39.7608359|    -75.5623992|           5.0|         176.0|\n",
      "|A New Twist Ballo...|   ID|   43.6054854|     -116.20715|           5.0|         276.0|\n",
      "|           Mr Brakes|   MI|   39.8031006|    -75.0505471|           2.5|           9.0|\n",
      "|     Blues City Deli|   MO|    38.605024|    -90.2181096|           5.0|         991.0|\n",
      "|   MudMan Food Truck|   MT|   27.7896783|    -82.6807458|           5.0|           6.0|\n",
      "|                IHOP|   NC|    36.378837|     -86.463779|           2.0|          29.0|\n",
      "|    Carlillos Cocina|   NV|    39.530096|    -119.766608|           5.0|         799.0|\n",
      "|   All Service Citgo|   VT|42.8854795223| -73.2004570502|           4.5|          10.0|\n",
      "|Balance Coffee an...|   IL|38.5059725959| -89.9840637628|           5.0|          69.0|\n",
      "|St Yared Ethiopia...|   IN|39.9348598317| -85.9511462419|           5.0|         250.0|\n",
      "|                Yats|   TN|35.9487781145| -86.8181721768|           5.0|         623.0|\n",
      "|        The Moorings|   VI|   27.9672055|     -82.722471|           2.5|          10.0|\n",
      "|Valvoline Instant...|   WA|    39.611974|    -86.1588974|           4.5|          13.0|\n",
      "|Pumpernickles Cat...|  XMS|    38.673049|     -90.423156|           4.0|           5.0|\n",
      "|   SUGARED + BRONZED|   PA|   39.9485704|    -75.1600722|           5.0|         513.0|\n",
      "|          Evoolution|   AB|    53.541719|    -113.499482|           5.0|          42.0|\n",
      "|Travis Darnell Ph...|   CO|38.7366740189| -90.5323076248|           4.5|           8.0|\n",
      "|Barracuda Deli Ca...|   FL|   27.7366935|     -82.748189|           5.0|         521.0|\n",
      "|2 Sisters Photogr...|   HI|   32.2270858|   -110.9616089|           5.0|          15.0|\n",
      "|United Parcel Ser...|   MA|    39.310158|    -119.650053|           1.5|          34.0|\n",
      "|        K Soho Salon|   SD|    27.936284|      -82.48319|           4.5|          42.0|\n",
      "|Southern Luxe Beauty|   TX|   36.1279507|    -86.4722991|           5.0|           7.0|\n",
      "|       Find Your Zen|   UT|   43.6954424|   -116.3540138|           4.5|          19.0|\n",
      "+--------------------+-----+-------------+---------------+--------------+--------------+\n",
      "\n"
     ]
    }
   ],
   "source": [
    "#Top star rated business in each state\n",
    "output = spark.sql(\n",
    "'''\n",
    "-- Calculate the average ratings per business and state\n",
    "WITH average_ratings AS (\n",
    "  SELECT b.name, b.state, AVG(b.stars) AS average_rating, AVG(review_count) AS average_review, b.latitude,b.longitude\n",
    "  FROM business_table b\n",
    "  GROUP BY b.name, b.state, b.latitude,b.longitude\n",
    "),\n",
    "\n",
    "-- Rank businesses within each state\n",
    "ranked_businesses AS (\n",
    "  SELECT name, state, average_rating, average_review,latitude,longitude,\n",
    "         ROW_NUMBER() OVER (PARTITION BY state ORDER BY average_rating DESC, average_review DESC) AS ranking\n",
    "  FROM average_ratings\n",
    ")\n",
    "\n",
    "-- Filter for top-rated businesses\n",
    "SELECT name, state,latitude,longitude, average_rating, average_review\n",
    "FROM ranked_businesses\n",
    "WHERE  ranking=1\n",
    "'''\n",
    ")\n",
    "output.show(30)\n",
    "output.write.option(\"header\",True).csv(\"C:/Supriyaa-spark-notes/tableau files/top_rated_business_per_state.csv\")"
   ]
  }
 ],
 "metadata": {
  "kernelspec": {
   "display_name": "Python 3 (ipykernel)",
   "language": "python",
   "name": "python3"
  },
  "language_info": {
   "codemirror_mode": {
    "name": "ipython",
    "version": 3
   },
   "file_extension": ".py",
   "mimetype": "text/x-python",
   "name": "python",
   "nbconvert_exporter": "python",
   "pygments_lexer": "ipython3",
   "version": "3.9.13"
  }
 },
 "nbformat": 4,
 "nbformat_minor": 5
}
