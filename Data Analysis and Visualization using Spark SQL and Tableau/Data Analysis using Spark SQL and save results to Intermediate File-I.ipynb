{
 "cells": [
  {
   "cell_type": "code",
   "execution_count": 1,
   "id": "2bf5fbe1",
   "metadata": {},
   "outputs": [],
   "source": [
    "import pyspark\n",
    "from pyspark.sql import SparkSession"
   ]
  },
  {
   "cell_type": "code",
   "execution_count": 2,
   "id": "49062919",
   "metadata": {},
   "outputs": [],
   "source": [
    "from pyspark.sql.functions import udf, struct, col\n",
    "from pyspark.sql.types import *"
   ]
  },
  {
   "cell_type": "code",
   "execution_count": 3,
   "id": "7b2870c6",
   "metadata": {},
   "outputs": [],
   "source": [
    "spark= SparkSession.builder.appName(\"Data Analysis on business\").getOrCreate()"
   ]
  },
  {
   "cell_type": "code",
   "execution_count": 4,
   "id": "cdd0775c",
   "metadata": {},
   "outputs": [],
   "source": [
    "business_df = spark.read.json(\"C:\\Supriyaa-spark-notes\\yelp\\yelp_academic_dataset_business.json\")"
   ]
  },
  {
   "cell_type": "code",
   "execution_count": 5,
   "id": "3c4f8085",
   "metadata": {},
   "outputs": [
    {
     "name": "stdout",
     "output_type": "stream",
     "text": [
      "root\n",
      " |-- address: string (nullable = true)\n",
      " |-- attributes: struct (nullable = true)\n",
      " |    |-- AcceptsInsurance: string (nullable = true)\n",
      " |    |-- AgesAllowed: string (nullable = true)\n",
      " |    |-- Alcohol: string (nullable = true)\n",
      " |    |-- Ambience: string (nullable = true)\n",
      " |    |-- BYOB: string (nullable = true)\n",
      " |    |-- BYOBCorkage: string (nullable = true)\n",
      " |    |-- BestNights: string (nullable = true)\n",
      " |    |-- BikeParking: string (nullable = true)\n",
      " |    |-- BusinessAcceptsBitcoin: string (nullable = true)\n",
      " |    |-- BusinessAcceptsCreditCards: string (nullable = true)\n",
      " |    |-- BusinessParking: string (nullable = true)\n",
      " |    |-- ByAppointmentOnly: string (nullable = true)\n",
      " |    |-- Caters: string (nullable = true)\n",
      " |    |-- CoatCheck: string (nullable = true)\n",
      " |    |-- Corkage: string (nullable = true)\n",
      " |    |-- DietaryRestrictions: string (nullable = true)\n",
      " |    |-- DogsAllowed: string (nullable = true)\n",
      " |    |-- DriveThru: string (nullable = true)\n",
      " |    |-- GoodForDancing: string (nullable = true)\n",
      " |    |-- GoodForKids: string (nullable = true)\n",
      " |    |-- GoodForMeal: string (nullable = true)\n",
      " |    |-- HairSpecializesIn: string (nullable = true)\n",
      " |    |-- HappyHour: string (nullable = true)\n",
      " |    |-- HasTV: string (nullable = true)\n",
      " |    |-- Music: string (nullable = true)\n",
      " |    |-- NoiseLevel: string (nullable = true)\n",
      " |    |-- Open24Hours: string (nullable = true)\n",
      " |    |-- OutdoorSeating: string (nullable = true)\n",
      " |    |-- RestaurantsAttire: string (nullable = true)\n",
      " |    |-- RestaurantsCounterService: string (nullable = true)\n",
      " |    |-- RestaurantsDelivery: string (nullable = true)\n",
      " |    |-- RestaurantsGoodForGroups: string (nullable = true)\n",
      " |    |-- RestaurantsPriceRange2: string (nullable = true)\n",
      " |    |-- RestaurantsReservations: string (nullable = true)\n",
      " |    |-- RestaurantsTableService: string (nullable = true)\n",
      " |    |-- RestaurantsTakeOut: string (nullable = true)\n",
      " |    |-- Smoking: string (nullable = true)\n",
      " |    |-- WheelchairAccessible: string (nullable = true)\n",
      " |    |-- WiFi: string (nullable = true)\n",
      " |-- business_id: string (nullable = true)\n",
      " |-- categories: string (nullable = true)\n",
      " |-- city: string (nullable = true)\n",
      " |-- hours: struct (nullable = true)\n",
      " |    |-- Friday: string (nullable = true)\n",
      " |    |-- Monday: string (nullable = true)\n",
      " |    |-- Saturday: string (nullable = true)\n",
      " |    |-- Sunday: string (nullable = true)\n",
      " |    |-- Thursday: string (nullable = true)\n",
      " |    |-- Tuesday: string (nullable = true)\n",
      " |    |-- Wednesday: string (nullable = true)\n",
      " |-- is_open: long (nullable = true)\n",
      " |-- latitude: double (nullable = true)\n",
      " |-- longitude: double (nullable = true)\n",
      " |-- name: string (nullable = true)\n",
      " |-- postal_code: string (nullable = true)\n",
      " |-- review_count: long (nullable = true)\n",
      " |-- stars: double (nullable = true)\n",
      " |-- state: string (nullable = true)\n",
      "\n"
     ]
    }
   ],
   "source": [
    "business_df.printSchema()"
   ]
  },
  {
   "cell_type": "code",
   "execution_count": 6,
   "id": "553922bd",
   "metadata": {},
   "outputs": [
    {
     "data": {
      "text/plain": [
       "['address',\n",
       " 'attributes',\n",
       " 'business_id',\n",
       " 'categories',\n",
       " 'city',\n",
       " 'hours',\n",
       " 'is_open',\n",
       " 'latitude',\n",
       " 'longitude',\n",
       " 'name',\n",
       " 'postal_code',\n",
       " 'review_count',\n",
       " 'stars',\n",
       " 'state']"
      ]
     },
     "execution_count": 6,
     "metadata": {},
     "output_type": "execute_result"
    }
   ],
   "source": [
    "business_df.columns"
   ]
  },
  {
   "cell_type": "code",
   "execution_count": 7,
   "id": "0986ebc0",
   "metadata": {},
   "outputs": [
    {
     "name": "stdout",
     "output_type": "stream",
     "text": [
      "Dataset Shape: ( 150346 , 14 )\n"
     ]
    }
   ],
   "source": [
    "nrow=business_df.count()\n",
    "ncol=len(business_df.columns)\n",
    "print(\"Dataset Shape:\",'(', nrow,',',ncol,')')"
   ]
  },
  {
   "cell_type": "code",
   "execution_count": 8,
   "id": "30f1b1ec",
   "metadata": {},
   "outputs": [
    {
     "data": {
      "text/plain": [
       "[('address', 'string'),\n",
       " ('attributes',\n",
       "  'struct<AcceptsInsurance:string,AgesAllowed:string,Alcohol:string,Ambience:string,BYOB:string,BYOBCorkage:string,BestNights:string,BikeParking:string,BusinessAcceptsBitcoin:string,BusinessAcceptsCreditCards:string,BusinessParking:string,ByAppointmentOnly:string,Caters:string,CoatCheck:string,Corkage:string,DietaryRestrictions:string,DogsAllowed:string,DriveThru:string,GoodForDancing:string,GoodForKids:string,GoodForMeal:string,HairSpecializesIn:string,HappyHour:string,HasTV:string,Music:string,NoiseLevel:string,Open24Hours:string,OutdoorSeating:string,RestaurantsAttire:string,RestaurantsCounterService:string,RestaurantsDelivery:string,RestaurantsGoodForGroups:string,RestaurantsPriceRange2:string,RestaurantsReservations:string,RestaurantsTableService:string,RestaurantsTakeOut:string,Smoking:string,WheelchairAccessible:string,WiFi:string>'),\n",
       " ('business_id', 'string'),\n",
       " ('categories', 'string'),\n",
       " ('city', 'string'),\n",
       " ('hours',\n",
       "  'struct<Friday:string,Monday:string,Saturday:string,Sunday:string,Thursday:string,Tuesday:string,Wednesday:string>'),\n",
       " ('is_open', 'bigint'),\n",
       " ('latitude', 'double'),\n",
       " ('longitude', 'double'),\n",
       " ('name', 'string'),\n",
       " ('postal_code', 'string'),\n",
       " ('review_count', 'bigint'),\n",
       " ('stars', 'double'),\n",
       " ('state', 'string')]"
      ]
     },
     "execution_count": 8,
     "metadata": {},
     "output_type": "execute_result"
    }
   ],
   "source": [
    "business_df.dtypes"
   ]
  },
  {
   "cell_type": "code",
   "execution_count": 9,
   "id": "bd54363e",
   "metadata": {},
   "outputs": [
    {
     "name": "stdout",
     "output_type": "stream",
     "text": [
      "+-------+-----------------+--------------------+--------------------+-----------+-------------------+-----------------+------------------+--------------------+-----------------+------------------+------------------+------+\n",
      "|summary|          address|         business_id|          categories|       city|            is_open|         latitude|         longitude|                name|      postal_code|      review_count|             stars| state|\n",
      "+-------+-----------------+--------------------+--------------------+-----------+-------------------+-----------------+------------------+--------------------+-----------------+------------------+------------------+------+\n",
      "|  count|           150346|              150346|              150243|     150346|             150346|           150346|            150346|              150346|           150346|            150346|            150346|150346|\n",
      "|   mean|7369.333333333333|                null|                null|       null| 0.7961502135075094|36.67115006414565|-89.35733948971448|              1252.4|45177.81755426108| 44.86656113232144|3.5967235576603303|  null|\n",
      "| stddev|8738.777641447725|                null|                null|       null|0.40285993909006373|5.872758917014046|14.918501679930616|   811.1275005954503|26395.88208585646|121.12013570117071|0.9744207509201357|  null|\n",
      "|    min|                 |---kPU91CF4Lq2-Wl...|3D Printing, Loca...|AB Edmonton|                  0|        27.555127|       -120.095137|        Grow Academy|                 |                 5|               1.0|    AB|\n",
      "|    max|  ​185 E State St|zzyx5x0Z7xXWWvWnZ...|Zoos, Tours, Arts...|    ​Lithia|                  1|       53.6791969|    -73.2004570502|​​Transformationa...|          T9E 0V3|              7568|               5.0|   XMS|\n",
      "+-------+-----------------+--------------------+--------------------+-----------+-------------------+-----------------+------------------+--------------------+-----------------+------------------+------------------+------+\n",
      "\n"
     ]
    }
   ],
   "source": [
    "business_df.describe().show()"
   ]
  },
  {
   "cell_type": "code",
   "execution_count": 10,
   "id": "958663ac",
   "metadata": {},
   "outputs": [
    {
     "name": "stdout",
     "output_type": "stream",
     "text": [
      "Distinct values of address: 122844\n",
      "Distinct values of attributes: 67213\n",
      "Distinct values of business_id: 150346\n",
      "Distinct values of categories: 83161\n",
      "Distinct values of city: 1416\n",
      "Distinct values of hours: 49823\n",
      "Distinct values of is_open: 2\n",
      "Distinct values of latitude: 135593\n",
      "Distinct values of longitude: 131918\n",
      "Distinct values of name: 114117\n",
      "Distinct values of postal_code: 3362\n",
      "Distinct values of review_count: 1158\n",
      "Distinct values of stars: 9\n",
      "Distinct values of state: 27\n"
     ]
    }
   ],
   "source": [
    "#print distinct values of each column\n",
    "from pyspark.sql.functions import col\n",
    "\n",
    "# Iterate over each column in the DataFrame\n",
    "for column in business_df.columns:\n",
    "    distinct_values = business_df.select(col(column)).distinct().count()\n",
    "    print(f\"Distinct values of {column}:\",distinct_values)"
   ]
  },
  {
   "cell_type": "code",
   "execution_count": 11,
   "id": "47c9cbce",
   "metadata": {},
   "outputs": [
    {
     "name": "stdout",
     "output_type": "stream",
     "text": [
      "Missing values in address: 0.00%  and total count:  0\n",
      "Missing values in attributes: 9.14%  and total count:  13744\n",
      "Missing values in business_id: 0.00%  and total count:  0\n",
      "Missing values in categories: 0.07%  and total count:  103\n",
      "Missing values in city: 0.00%  and total count:  0\n",
      "Missing values in hours: 15.45%  and total count:  23223\n",
      "Missing values in is_open: 0.00%  and total count:  0\n",
      "Missing values in latitude: 0.00%  and total count:  0\n",
      "Missing values in longitude: 0.00%  and total count:  0\n",
      "Missing values in name: 0.00%  and total count:  0\n",
      "Missing values in postal_code: 0.00%  and total count:  0\n",
      "Missing values in review_count: 0.00%  and total count:  0\n",
      "Missing values in stars: 0.00%  and total count:  0\n",
      "Missing values in state: 0.00%  and total count:  0\n"
     ]
    }
   ],
   "source": [
    "#Missing values\n",
    "from pyspark.sql.functions import col, isnull\n",
    "\n",
    "# Missing values\n",
    "total_rows = business_df.count()\n",
    "for i in range(len(business_df.columns)):\n",
    "    column_name = business_df.columns[i]\n",
    "    n = business_df.filter(isnull(col(column_name))).count()\n",
    "    p = (n / total_rows) * 100\n",
    "    print(f\"Missing values in {column_name}: {p:.2f}%\",' and total count: ',n)"
   ]
  },
  {
   "cell_type": "code",
   "execution_count": 12,
   "id": "0d84e4de",
   "metadata": {},
   "outputs": [
    {
     "name": "stdout",
     "output_type": "stream",
     "text": [
      "+------------------------------+----------+----------------------+----------+----------------+-----+-------+----------+------------+---------------------------------------+-----------+------------+-----+-----+\n",
      "|address                       |attributes|business_id           |categories|city            |hours|is_open|latitude  |longitude   |name                                   |postal_code|review_count|stars|state|\n",
      "+------------------------------+----------+----------------------+----------+----------------+-----+-------+----------+------------+---------------------------------------+-----------+------------+-----+-----+\n",
      "|60 W White Horse Pike         |null      |SMYXOLPyM95JvZ-oqnsWUA|null      |Berlin          |null |1      |39.8004163|-74.9371806 |A A Berlin Glass & Mirror Co           |08009      |5           |3.0  |NJ   |\n",
      "|10204 Saint Charles Rck Rd    |null      |9ryVeDaaR-le3kiSayTGow|null      |Saint Ann       |null |1      |38.7260321|-90.3793227 |Pauline African Hair Braiding & Weaving|63074      |5           |1.0  |MO   |\n",
      "|5135 Meadowood Mall Cir       |null      |xT3J-SP5g49g2FjQfLEQfg|null      |Reno            |null |1      |39.4756225|-119.7833497|Luxury Perfume                         |89502      |5           |2.0  |NV   |\n",
      "|11601 Roosevelt Blvd N        |null      |_obl2-rphXvtzP3y_ekV1Q|null      |Saint Petersburg|null |1      |27.8774633|-82.6535459 |Certegy Payment Services               |33716      |7           |1.0  |FL   |\n",
      "|3520 N Highway 94             |null      |mKxCNYEoKt6d_1rXmvRwww|null      |Saint Charles   |null |1      |38.826533 |-90.4722239 |Green Envy                             |63301      |5           |1.5  |MO   |\n",
      "|9109 Watson Rd                |null      |9QoKKDZB_YuDeS5TxRW8bg|null      |Saint Louis     |null |1      |38.5614292|-90.3718048 |Our 365 Portraits                      |63126      |10          |1.0  |MO   |\n",
      "|817 W Franklin St, Ste 100    |null      |lxaSo0sBK36BNDRL6uWHXg|null      |Boise           |null |1      |43.6205297|-116.2000815|Parklane Management Company            |83702      |5           |1.0  |ID   |\n",
      "|314 N Middletown Rd           |null      |ZERQMWb1PFzCfbfknqq-fA|null      |Media           |null |1      |39.9179763|-75.4418924 |Pilot Air Freight                      |19063      |8           |1.5  |PA   |\n",
      "|6201 Johns Rd, Ste 12         |null      |cs7i8-NtrT2P4dMYa2fX-g|null      |Tampa           |null |1      |28.0078574|-82.5491156 |Direct USA                             |33634      |5           |1.0  |FL   |\n",
      "|5400 Lapalco Blvd             |null      |tfQEd3kakCQdbjfdp62rzg|null      |Marrero         |null |1      |29.8757377|-90.1068608 |Nicholson's College Cars               |70072      |5           |2.5  |LA   |\n",
      "|5121 N Armenia Ave            |null      |NpQowTAUYGeylRCAsJx9UA|null      |Tampa           |null |1      |27.9931964|-82.4833777 |Skaters Choice                         |33603      |8           |4.5  |FL   |\n",
      "|424 N Pinellas Ave            |null      |7cEbbI3wjuGSsJUIGdrnzg|null      |Tarpon Springs  |null |1      |28.1503407|-82.7564411 |Qmar                                   |34689      |7           |5.0  |FL   |\n",
      "|529 Lancaster Ave             |null      |6aVfpb46kY1FN7nFc32Tew|null      |Berwyn          |null |1      |40.0477679|-75.4365588 |Smart Cents Cleaners                   |19312      |7           |1.0  |PA   |\n",
      "|412 N Springfield Rd          |null      |_LoMSJiz4dLYnqwRN1bVOg|null      |Primos          |null |1      |39.9303332|-75.3050139 |Sure Payroll Service                   |19018      |8           |1.0  |PA   |\n",
      "|23 Peddlers Row               |null      |Dngea1LMy4JhJiC5mlYcow|null      |Newark          |null |1      |39.6652322|-75.6618254 |Positive Promotions                    |19702      |10          |1.0  |DE   |\n",
      "|4032 Lake Trail Dr            |null      |2M_l_vsJx2T_Ihu2XhfRJw|null      |Kenner          |null |1      |30.0298704|-90.2305673 |Higginbottom's Heat & Ac Service       |70065      |7           |2.0  |LA   |\n",
      "|3501 N Causeway Blvd, Ste 1000|null      |Ap9LaMbl1hJX0c7q3m9hAw|null      |Metairie        |null |1      |30.0127115|-90.1539606 |Adriatic Insurance Company             |70002      |6           |1.0  |LA   |\n",
      "|1501 W Commerce Ct            |null      |qnJ5tZf2eHrvNZXN5ZMQHQ|null      |Tucson          |null |1      |32.1310473|-110.9970941|Cope Behavioral Services               |85746      |5           |2.5  |AZ   |\n",
      "|2727 Edenborn Ave             |null      |aya_GU5A7-cB3-G3IO58ng|null      |Metairie        |null |1      |30.0015038|-90.1615687 |Dollar General Store                   |70002      |5           |1.5  |LA   |\n",
      "|11495 N Pennsylvania St       |null      |S1OERFoPAqaDqr5_dFOTxg|null      |Carmel          |null |1      |39.9541132|-86.1539523 |Keter North America                    |46032      |7           |2.5  |IN   |\n",
      "+------------------------------+----------+----------------------+----------+----------------+-----+-------+----------+------------+---------------------------------------+-----------+------------+-----+-----+\n",
      "only showing top 20 rows\n",
      "\n"
     ]
    }
   ],
   "source": [
    "# Filter the DataFrame to show rows with missing values in a specific column\n",
    "column_with_missing = \"categories\"\n",
    "business_df.filter(isnull(col(column_with_missing))).show(truncate=False)"
   ]
  },
  {
   "cell_type": "code",
   "execution_count": 13,
   "id": "72af2097",
   "metadata": {},
   "outputs": [
    {
     "name": "stderr",
     "output_type": "stream",
     "text": [
      "IOPub data rate exceeded.\n",
      "The notebook server will temporarily stop sending output\n",
      "to the client in order to avoid crashing it.\n",
      "To change this limit, set the config variable\n",
      "`--NotebookApp.iopub_data_rate_limit`.\n",
      "\n",
      "Current values:\n",
      "NotebookApp.iopub_data_rate_limit=1000000.0 (bytes/sec)\n",
      "NotebookApp.rate_limit_window=3.0 (secs)\n",
      "\n"
     ]
    }
   ],
   "source": [
    "column_to_check = \"categories\"\n",
    "distinct_values = business_df.select(column_to_check).distinct().collect()\n",
    "print(f\"Distinct values in {column_to_check}:\")\n",
    "for row in distinct_values:\n",
    "    print(row[0])"
   ]
  },
  {
   "cell_type": "code",
   "execution_count": 14,
   "id": "b85ee445",
   "metadata": {},
   "outputs": [
    {
     "name": "stdout",
     "output_type": "stream",
     "text": [
      "+--------------------+--------------------+-----+--------------------+\n",
      "|         business_id|          categories|hours|          attributes|\n",
      "+--------------------+--------------------+-----+--------------------+\n",
      "|Pns2l4eNsfO8kk83d...|Doctors, Traditio...| null|{null, null, null...|\n",
      "|k0hlBqXX-Bt0vf1op...|Pubs, Restaurants...| null|{null, null, u'fu...|\n",
      "|4iRzR7OaS-QaSXuvY...|Hot Dogs, Restaur...| null|{null, null, u'be...|\n",
      "|w_AMNoI1iG9eay7nc...|Event Planning & ...| null|{null, null, null...|\n",
      "|2xVsWBNFwZOxIOdd9...|Restaurants, Burgers| null|{null, null, u'fu...|\n",
      "|bCBPXIVfVzBZBEpFu...|Shipping Centers,...| null|{null, null, null...|\n",
      "|REwfwz-_-CMQ7Np5U...|Real Estate Agent...| null|                null|\n",
      "|0qNpTGTcqPwOLi2hA...|Food, Grocery, Co...| null|{null, null, null...|\n",
      "|xM6LoUcnpDpMBzXs_...|Hotels, Hotels & ...| null|{null, null, null...|\n",
      "|L_TT0BFmFwORAMaA8...|Gastropubs, Cockt...| null|{null, null, u'no...|\n",
      "|mjWvAkNqoA6Y5P03s...|  Uniforms, Shopping| null|{null, null, null...|\n",
      "|qfWJmJ0g96eM_fWma...|Seafood, Restaura...| null|{null, null, u'fu...|\n",
      "|KWA2qtdwVEkMpd5so...|       Food, Grocery| null|{null, null, null...|\n",
      "|gbN4RuUiiBxQ2GBFQ...|   Food Trucks, Food| null|{null, null, 'ful...|\n",
      "|7PDi_iyik3jraDAzW...|Banks & Credit Un...| null|                null|\n",
      "|8rb-3VYXE37IZix4y...|American (Traditi...| null|{null, null, u'fu...|\n",
      "|x9K0RfZaT_zlw6Dkl...|Italian, Restaurants| null|{null, null, u'fu...|\n",
      "|cvP_vh_bOLbCY3eoY...|Festivals, Arts &...| null|{null, null, null...|\n",
      "|NZ_bFJma7brQUfln5...|Restaurants, Japa...| null|{null, null, null...|\n",
      "|Dy91wdWkwtI_qgjAI...|Mexican, Restaurants| null|{null, null, u'no...|\n",
      "+--------------------+--------------------+-----+--------------------+\n",
      "only showing top 20 rows\n",
      "\n"
     ]
    }
   ],
   "source": [
    "column_with_missing = \"hours\"\n",
    "business_df.filter(isnull(col(column_with_missing))).select('business_id','categories','hours','attributes').show()"
   ]
  },
  {
   "cell_type": "code",
   "execution_count": 15,
   "id": "60fa5c54",
   "metadata": {},
   "outputs": [
    {
     "name": "stdout",
     "output_type": "stream",
     "text": [
      "+--------------------+----------+-----+----------+\n",
      "|         business_id|categories|hours|attributes|\n",
      "+--------------------+----------+-----+----------+\n",
      "|SMYXOLPyM95JvZ-oq...|      null| null|      null|\n",
      "|9ryVeDaaR-le3kiSa...|      null| null|      null|\n",
      "|xT3J-SP5g49g2FjQf...|      null| null|      null|\n",
      "|_obl2-rphXvtzP3y_...|      null| null|      null|\n",
      "|mKxCNYEoKt6d_1rXm...|      null| null|      null|\n",
      "|9QoKKDZB_YuDeS5Tx...|      null| null|      null|\n",
      "|lxaSo0sBK36BNDRL6...|      null| null|      null|\n",
      "|ZERQMWb1PFzCfbfkn...|      null| null|      null|\n",
      "|cs7i8-NtrT2P4dMYa...|      null| null|      null|\n",
      "|tfQEd3kakCQdbjfdp...|      null| null|      null|\n",
      "|NpQowTAUYGeylRCAs...|      null| null|      null|\n",
      "|7cEbbI3wjuGSsJUIG...|      null| null|      null|\n",
      "|6aVfpb46kY1FN7nFc...|      null| null|      null|\n",
      "|_LoMSJiz4dLYnqwRN...|      null| null|      null|\n",
      "|Dngea1LMy4JhJiC5m...|      null| null|      null|\n",
      "|2M_l_vsJx2T_Ihu2X...|      null| null|      null|\n",
      "|Ap9LaMbl1hJX0c7q3...|      null| null|      null|\n",
      "|qnJ5tZf2eHrvNZXN5...|      null| null|      null|\n",
      "|aya_GU5A7-cB3-G3I...|      null| null|      null|\n",
      "|S1OERFoPAqaDqr5_d...|      null| null|      null|\n",
      "+--------------------+----------+-----+----------+\n",
      "only showing top 20 rows\n",
      "\n"
     ]
    }
   ],
   "source": [
    "business_df.filter((isnull(col('hours')))&(isnull(col('categories')))&(isnull(col('attributes')))).select('business_id','categories','hours','attributes').show()"
   ]
  },
  {
   "cell_type": "code",
   "execution_count": 16,
   "id": "a35b84ee",
   "metadata": {},
   "outputs": [
    {
     "name": "stdout",
     "output_type": "stream",
     "text": [
      "Total rows where all 3 columns are Null:  102\n"
     ]
    }
   ],
   "source": [
    "c=business_df.filter((isnull(col('hours')))&(isnull(col('categories')))&(isnull(col('attributes')))).select('business_id','categories','hours','attributes').count()\n",
    "print(\"Total rows where all 3 columns are Null: \", c)"
   ]
  },
  {
   "cell_type": "code",
   "execution_count": 17,
   "id": "4ba227fa",
   "metadata": {},
   "outputs": [
    {
     "name": "stdout",
     "output_type": "stream",
     "text": [
      "Total rows where hour is Null but other two columns are not null:  18983\n"
     ]
    }
   ],
   "source": [
    "c=business_df.filter((isnull(col('hours')))&~(isnull(col('categories')))&~(isnull(col('attributes')))).select('business_id','categories','hours','attributes').count()\n",
    "print(\"Total rows where hour is Null but other two columns are not null: \", c)"
   ]
  },
  {
   "cell_type": "code",
   "execution_count": 18,
   "id": "ab6e8343",
   "metadata": {},
   "outputs": [
    {
     "name": "stdout",
     "output_type": "stream",
     "text": [
      "+--------------------+--------------------+-----+--------------------+\n",
      "|         business_id|          categories|hours|          attributes|\n",
      "+--------------------+--------------------+-----+--------------------+\n",
      "|Pns2l4eNsfO8kk83d...|Doctors, Traditio...| null|{null, null, null...|\n",
      "|k0hlBqXX-Bt0vf1op...|Pubs, Restaurants...| null|{null, null, u'fu...|\n",
      "|4iRzR7OaS-QaSXuvY...|Hot Dogs, Restaur...| null|{null, null, u'be...|\n",
      "|w_AMNoI1iG9eay7nc...|Event Planning & ...| null|{null, null, null...|\n",
      "|2xVsWBNFwZOxIOdd9...|Restaurants, Burgers| null|{null, null, u'fu...|\n",
      "|bCBPXIVfVzBZBEpFu...|Shipping Centers,...| null|{null, null, null...|\n",
      "|0qNpTGTcqPwOLi2hA...|Food, Grocery, Co...| null|{null, null, null...|\n",
      "|xM6LoUcnpDpMBzXs_...|Hotels, Hotels & ...| null|{null, null, null...|\n",
      "|L_TT0BFmFwORAMaA8...|Gastropubs, Cockt...| null|{null, null, u'no...|\n",
      "|mjWvAkNqoA6Y5P03s...|  Uniforms, Shopping| null|{null, null, null...|\n",
      "|qfWJmJ0g96eM_fWma...|Seafood, Restaura...| null|{null, null, u'fu...|\n",
      "|KWA2qtdwVEkMpd5so...|       Food, Grocery| null|{null, null, null...|\n",
      "|gbN4RuUiiBxQ2GBFQ...|   Food Trucks, Food| null|{null, null, 'ful...|\n",
      "|8rb-3VYXE37IZix4y...|American (Traditi...| null|{null, null, u'fu...|\n",
      "|x9K0RfZaT_zlw6Dkl...|Italian, Restaurants| null|{null, null, u'fu...|\n",
      "|cvP_vh_bOLbCY3eoY...|Festivals, Arts &...| null|{null, null, null...|\n",
      "|NZ_bFJma7brQUfln5...|Restaurants, Japa...| null|{null, null, null...|\n",
      "|Dy91wdWkwtI_qgjAI...|Mexican, Restaurants| null|{null, null, u'no...|\n",
      "|iPSPcprSnkLOuL1Ns...|Barbers, Beauty &...| null|{null, null, null...|\n",
      "|anLQj9AM8vjbcLSIE...|  Pizza, Restaurants| null|{null, null, u'no...|\n",
      "+--------------------+--------------------+-----+--------------------+\n",
      "only showing top 20 rows\n",
      "\n"
     ]
    }
   ],
   "source": [
    "business_df.filter((isnull(col('hours')))&~(isnull(col('categories')))&~(isnull(col('attributes')))).select('business_id','categories','hours','attributes').show()"
   ]
  },
  {
   "cell_type": "code",
   "execution_count": 5,
   "id": "a53fd04f",
   "metadata": {},
   "outputs": [],
   "source": [
    "# Register the DataFrame as a temporary table\n",
    "business_df.createOrReplaceTempView(\"business_table\")"
   ]
  },
  {
   "cell_type": "code",
   "execution_count": 19,
   "id": "3c1cfbd0",
   "metadata": {},
   "outputs": [
    {
     "name": "stdout",
     "output_type": "stream",
     "text": [
      "+-----------+\n",
      "|total_count|\n",
      "+-----------+\n",
      "|     150346|\n",
      "+-----------+\n",
      "\n"
     ]
    }
   ],
   "source": [
    "result = spark.sql(\"SELECT count(*) as total_count FROM business_table\")\n",
    "result.show()"
   ]
  },
  {
   "cell_type": "code",
   "execution_count": 20,
   "id": "0926a97d",
   "metadata": {},
   "outputs": [
    {
     "name": "stdout",
     "output_type": "stream",
     "text": [
      "+-----------+\n",
      "|total_count|\n",
      "+-----------+\n",
      "|     150346|\n",
      "+-----------+\n",
      "\n"
     ]
    }
   ],
   "source": [
    "result = spark.sql(\"SELECT count(*) as total_count FROM (select distinct * from business_table)\")\n",
    "result.show()"
   ]
  },
  {
   "cell_type": "code",
   "execution_count": 21,
   "id": "3001d4ed",
   "metadata": {},
   "outputs": [
    {
     "name": "stdout",
     "output_type": "stream",
     "text": [
      "+-----------+----+\n",
      "|business_id|rown|\n",
      "+-----------+----+\n",
      "+-----------+----+\n",
      "\n"
     ]
    }
   ],
   "source": [
    "result=spark.sql('''select * from \n",
    "(select b.business_id,\n",
    "row_number() over (partition by address,attributes,business_id,categories,city,hours,is_open,latitude,longitude,\n",
    "name,postal_code,review_count,state,stars\n",
    "order by address,attributes,business_id,categories,city,hours,is_open,latitude,longitude,\n",
    "name,postal_code,review_count,state,stars) as rown\n",
    "from business_table b)\n",
    "where rown>2\n",
    "''')\n",
    "result.show()"
   ]
  },
  {
   "cell_type": "code",
   "execution_count": 22,
   "id": "d0dffa38",
   "metadata": {},
   "outputs": [
    {
     "name": "stdout",
     "output_type": "stream",
     "text": [
      "+-------+----------+-----------+----------+----+-----+-------+--------+---------+----+-----------+------------+-----+-----+-----+\n",
      "|address|attributes|business_id|categories|city|hours|is_open|latitude|longitude|name|postal_code|review_count|stars|state|rowid|\n",
      "+-------+----------+-----------+----------+----+-----+-------+--------+---------+----+-----------+------------+-----+-----+-----+\n",
      "+-------+----------+-----------+----------+----+-----+-------+--------+---------+----+-----------+------------+-----+-----+-----+\n",
      "\n"
     ]
    }
   ],
   "source": [
    "from pyspark.sql.functions import monotonically_increasing_id\n",
    "df_with_rowid = business_df.withColumn(\"rowid\", monotonically_increasing_id())\n",
    "df_with_rowid.createOrReplaceTempView(\"business_table1\")\n",
    "result=spark.sql('''SELECT * FROM business_table1 b1\n",
    "WHERE rowid > (\n",
    "  SELECT MIN(rowid) FROM business_table1 b2  \n",
    "  WHERE 1=1\n",
    "  and b1.address = b2.address\n",
    "  and b1.attributes = b2.attributes\n",
    "  and b1.business_id = b2.business_id\n",
    "  and b1.categories = b2.categories\n",
    "  and b1.city = b2.city\n",
    "  and b1.hours = b2.hours\n",
    "  and b1.is_open = b2.is_open\n",
    "  and b1.latitude = b2.latitude\n",
    "  and b1.longitude = b2.longitude\n",
    "  and b1.name = b2.name\n",
    "  and b1.postal_code = b2.postal_code\n",
    "  and b1.review_count = b2.review_count\n",
    "  and b1.state = b2.state\n",
    "  and b1.stars = b2.stars\n",
    ")''')\n",
    "result.show()"
   ]
  },
  {
   "cell_type": "code",
   "execution_count": 23,
   "id": "7d26ebd0",
   "metadata": {},
   "outputs": [
    {
     "name": "stdout",
     "output_type": "stream",
     "text": [
      "+---------------------------+\n",
      "|count(DISTINCT business_id)|\n",
      "+---------------------------+\n",
      "|                     150346|\n",
      "+---------------------------+\n",
      "\n"
     ]
    }
   ],
   "source": [
    "#To check if business_id is unique\n",
    "result=spark.sql(\"select count(distinct business_id) from business_table\")\n",
    "result.show()"
   ]
  },
  {
   "cell_type": "code",
   "execution_count": 20,
   "id": "e63415ef",
   "metadata": {},
   "outputs": [
    {
     "name": "stdout",
     "output_type": "stream",
     "text": [
      "+--------------------+-----+\n",
      "|          categories|count|\n",
      "+--------------------+-----+\n",
      "|Beauty & Spas, Na...| 1012|\n",
      "|  Restaurants, Pizza|  935|\n",
      "|Nail Salons, Beau...|  934|\n",
      "|  Pizza, Restaurants|  823|\n",
      "|Restaurants, Mexican|  728|\n",
      "|Restaurants, Chinese|  708|\n",
      "|Mexican, Restaurants|  672|\n",
      "|Chinese, Restaurants|  651|\n",
      "|  Food, Coffee & Tea|  508|\n",
      "|Beauty & Spas, Ha...|  493|\n",
      "|Hair Salons, Beau...|  480|\n",
      "|  Coffee & Tea, Food|  473|\n",
      "|Automotive, Auto ...|  361|\n",
      "|Auto Repair, Auto...|  351|\n",
      "|       Grocery, Food|  329|\n",
      "|Italian, Restaurants|  328|\n",
      "|       Food, Grocery|  306|\n",
      "| Veterinarians, Pets|  300|\n",
      "|Ice Cream & Froze...|  298|\n",
      "| Pets, Veterinarians|  285|\n",
      "+--------------------+-----+\n",
      "only showing top 20 rows\n",
      "\n"
     ]
    }
   ],
   "source": [
    "output =spark.sql(\"\"\"select * from (SELECT categories, COUNT(*)  as count\n",
    "FROM business_table\n",
    "GROUP BY categories) order by count desc\n",
    "                    \"\"\")\n",
    "output.show()\n",
    "output.write.option(\"header\",True).csv(\"C:/Supriyaa-spark-notes/tableau files/Business/categories_count.csv\")"
   ]
  },
  {
   "cell_type": "code",
   "execution_count": 25,
   "id": "397744a4",
   "metadata": {},
   "outputs": [
    {
     "name": "stdout",
     "output_type": "stream",
     "text": [
      "+-----+-----+\n",
      "|stars|count|\n",
      "+-----+-----+\n",
      "|  4.0|31125|\n",
      "|  4.5|27181|\n",
      "|  3.5|26519|\n",
      "|  3.0|18453|\n",
      "|  5.0|16307|\n",
      "|  2.5|14316|\n",
      "|  2.0| 9527|\n",
      "|  1.5| 4932|\n",
      "|  1.0| 1986|\n",
      "+-----+-----+\n",
      "\n"
     ]
    }
   ],
   "source": [
    "output =spark.sql(\"\"\"select * from (SELECT stars, COUNT(*)  as count\n",
    "FROM business_table\n",
    "GROUP BY stars)\n",
    "order by count desc\n",
    "                    \"\"\")\n",
    "output.show()"
   ]
  },
  {
   "cell_type": "code",
   "execution_count": 21,
   "id": "abff87b0",
   "metadata": {},
   "outputs": [
    {
     "name": "stdout",
     "output_type": "stream",
     "text": [
      "+----------------+-----+\n",
      "|            city|count|\n",
      "+----------------+-----+\n",
      "|    Philadelphia|14569|\n",
      "|          Tucson| 9250|\n",
      "|           Tampa| 9050|\n",
      "|    Indianapolis| 7540|\n",
      "|       Nashville| 6971|\n",
      "|     New Orleans| 6209|\n",
      "|            Reno| 5935|\n",
      "|        Edmonton| 5054|\n",
      "|     Saint Louis| 4827|\n",
      "|   Santa Barbara| 3829|\n",
      "|           Boise| 2937|\n",
      "|      Clearwater| 2221|\n",
      "|Saint Petersburg| 1663|\n",
      "|        Metairie| 1643|\n",
      "|          Sparks| 1624|\n",
      "|      Wilmington| 1446|\n",
      "|        Franklin| 1414|\n",
      "|       St. Louis| 1255|\n",
      "|  St. Petersburg| 1185|\n",
      "|        Meridian| 1043|\n",
      "+----------------+-----+\n",
      "only showing top 20 rows\n",
      "\n"
     ]
    }
   ],
   "source": [
    "output =spark.sql(\"\"\"select * from (SELECT city, COUNT(*)  as count\n",
    "FROM business_table\n",
    "GROUP BY city)\n",
    "order by count desc\n",
    "                    \"\"\")\n",
    "output.show()\n",
    "output.write.option(\"header\",True).csv(\"C:/Supriyaa-spark-notes/tableau files/Business/city_count.csv\")"
   ]
  },
  {
   "cell_type": "code",
   "execution_count": 22,
   "id": "8366fb4c",
   "metadata": {},
   "outputs": [
    {
     "name": "stdout",
     "output_type": "stream",
     "text": [
      "+-----+-----+\n",
      "|state|count|\n",
      "+-----+-----+\n",
      "|   PA|34039|\n",
      "|   FL|26330|\n",
      "|   TN|12056|\n",
      "|   IN|11247|\n",
      "|   MO|10913|\n",
      "|   LA| 9924|\n",
      "|   AZ| 9912|\n",
      "|   NJ| 8536|\n",
      "|   NV| 7715|\n",
      "|   AB| 5573|\n",
      "|   CA| 5203|\n",
      "|   ID| 4467|\n",
      "|   DE| 2265|\n",
      "|   IL| 2145|\n",
      "|   TX|    4|\n",
      "|   CO|    3|\n",
      "|   MA|    2|\n",
      "|   HI|    2|\n",
      "|   WA|    2|\n",
      "|   NC|    1|\n",
      "|   UT|    1|\n",
      "|   SD|    1|\n",
      "|   MI|    1|\n",
      "|  XMS|    1|\n",
      "|   MT|    1|\n",
      "|   VI|    1|\n",
      "|   VT|    1|\n",
      "+-----+-----+\n",
      "\n"
     ]
    }
   ],
   "source": [
    "output =spark.sql(\"\"\"select * from (SELECT state, COUNT(*)  as count\n",
    "FROM business_table\n",
    "GROUP BY state)\n",
    "order by count desc\n",
    "                    \"\"\")\n",
    "output.show(40)\n",
    "output.write.option(\"header\",True).csv(\"C:/Supriyaa-spark-notes/tableau files/Business/state_count.csv\")"
   ]
  },
  {
   "cell_type": "code",
   "execution_count": 28,
   "id": "ad5b0b9f",
   "metadata": {},
   "outputs": [
    {
     "name": "stdout",
     "output_type": "stream",
     "text": [
      "+------------+-----+\n",
      "|review_count|count|\n",
      "+------------+-----+\n",
      "|           5|14921|\n",
      "|           6|11673|\n",
      "|           7| 9594|\n",
      "|           8| 8040|\n",
      "|           9| 6875|\n",
      "|          10| 5921|\n",
      "|          11| 5087|\n",
      "|          12| 4676|\n",
      "|          13| 4194|\n",
      "|          14| 3635|\n",
      "|          15| 3258|\n",
      "|          16| 3007|\n",
      "|          17| 2756|\n",
      "|          18| 2443|\n",
      "|          19| 2347|\n",
      "|          20| 2220|\n",
      "|          21| 1972|\n",
      "|          22| 1857|\n",
      "|          23| 1789|\n",
      "|          24| 1702|\n",
      "+------------+-----+\n",
      "only showing top 20 rows\n",
      "\n"
     ]
    }
   ],
   "source": [
    "output =spark.sql(\"\"\"select * from (SELECT review_count, COUNT(*)  as count\n",
    "FROM business_table\n",
    "GROUP BY review_count)\n",
    "order by count desc\n",
    "                    \"\"\")\n",
    "output.show()"
   ]
  },
  {
   "cell_type": "code",
   "execution_count": 23,
   "id": "2ad427ea",
   "metadata": {},
   "outputs": [
    {
     "name": "stdout",
     "output_type": "stream",
     "text": [
      "+-------+------+\n",
      "|is_open| count|\n",
      "+-------+------+\n",
      "|      1|119698|\n",
      "|      0| 30648|\n",
      "+-------+------+\n",
      "\n"
     ]
    }
   ],
   "source": [
    "output =spark.sql(\"\"\"select * from (SELECT is_open, COUNT(*)  as count\n",
    "FROM business_table\n",
    "GROUP BY is_open)\n",
    "order by count desc\n",
    "                    \"\"\")\n",
    "output.show()\n",
    "output.write.option(\"header\",True).csv(\"C:/Supriyaa-spark-notes/tableau files/Business/bus_open_count.csv\")"
   ]
  },
  {
   "cell_type": "code",
   "execution_count": 30,
   "id": "7cf884a2",
   "metadata": {},
   "outputs": [
    {
     "name": "stdout",
     "output_type": "stream",
     "text": [
      "+------------------------------------------------------------------------------------------------------------------------------------------------------------------------------------------------------------------------------------------------------------------------------------------------------------------------------------------------------------------------------------------------------------------------------------------------------------------------------------------------------------------------------------------------------------------------------------------------------------+\n",
      "|attributes                                                                                                                                                                                                                                                                                                                                                                                                                                                                                                                                                                                                  |\n",
      "+------------------------------------------------------------------------------------------------------------------------------------------------------------------------------------------------------------------------------------------------------------------------------------------------------------------------------------------------------------------------------------------------------------------------------------------------------------------------------------------------------------------------------------------------------------------------------------------------------------+\n",
      "|{null, null, null, null, null, null, null, null, null, null, null, True, null, null, null, null, null, null, null, null, null, null, null, null, null, null, null, null, null, null, null, null, null, null, null, null, null, null, null}                                                                                                                                                                                                                                                                                                                                                                  |\n",
      "|{null, null, null, null, null, null, null, null, null, True, null, null, null, null, null, null, null, null, null, null, null, null, null, null, null, null, null, null, null, null, null, null, null, null, null, null, null, null, null}                                                                                                                                                                                                                                                                                                                                                                  |\n",
      "|{null, null, null, null, null, null, null, True, null, True, {'garage': False, 'street': False, 'validated': False, 'lot': True, 'valet': False}, False, False, False, null, null, False, null, null, null, null, null, False, False, null, null, null, False, null, null, False, null, 2, False, null, False, null, True, u'no'}                                                                                                                                                                                                                                                                           |\n",
      "|{null, null, u'none', null, null, null, null, True, null, False, {'garage': False, 'street': True, 'validated': False, 'lot': False, 'valet': False}, False, True, null, null, null, null, null, null, null, null, null, null, null, null, null, null, False, null, null, False, null, 1, null, null, True, null, null, u'free'}                                                                                                                                                                                                                                                                            |\n",
      "|{null, null, null, null, null, null, null, True, null, True, {'garage': None, 'street': None, 'validated': None, 'lot': True, 'valet': False}, null, False, null, null, null, null, null, null, True, null, null, null, null, null, null, null, null, null, null, null, null, null, null, null, True, null, True, null}                                                                                                                                                                                                                                                                                     |\n",
      "|{null, null, u'none', None, null, null, null, False, null, True, None, False, False, False, null, null, False, True, null, True, null, null, False, True, null, null, null, True, u'casual', null, True, True, 1, False, False, True, null, True, u'no'}                                                                                                                                                                                                                                                                                                                                                    |\n",
      "|{null, null, null, null, null, null, null, True, null, True, {'garage': False, 'street': False, 'validated': False, 'lot': True, 'valet': False}, null, null, null, null, null, null, null, null, null, null, null, null, null, null, null, null, null, null, null, null, null, 2, null, null, null, null, null, null}                                                                                                                                                                                                                                                                                      |\n",
      "|{null, null, u'full_bar', {'romantic': False, 'intimate': False, 'touristy': False, 'hipster': False, 'divey': False, 'classy': False, 'trendy': False, 'upscale': False, 'casual': False}, null, null, null, null, null, True, {'garage': False, 'street': False, 'validated': False, 'lot': True, 'valet': False}, null, True, null, null, null, null, null, null, True, null, null, null, True, null, u'average', null, True, u'casual', null, False, True, 1, False, null, True, null, null, u'free'}                                                                                                   |\n",
      "|{null, null, u'none', null, null, null, null, null, null, True, {'garage': False, 'street': False, 'validated': False, 'lot': False, 'valet': False}, False, False, False, null, null, False, True, null, True, null, null, False, True, null, null, null, True, 'casual', null, True, False, 1, False, False, True, null, True, u'no'}                                                                                                                                                                                                                                                                     |\n",
      "|{null, null, null, null, null, null, null, True, null, True, {'garage': False, 'street': False, 'validated': False, 'lot': False, 'valet': False}, null, null, null, null, null, null, null, null, null, null, null, null, null, null, null, null, null, null, null, null, null, 2, null, null, null, null, null, null}                                                                                                                                                                                                                                                                                     |\n",
      "|{null, null, 'none', {'touristy': False, 'hipster': False, 'romantic': False, 'divey': False, 'intimate': False, 'trendy': False, 'upscale': False, 'classy': False, 'casual': False}, null, null, null, null, null, null, {'garage': False, 'street': False, 'validated': False, 'lot': False, 'valet': False}, null, null, null, null, null, null, null, null, null, {'dessert': False, 'latenight': False, 'lunch': False, 'dinner': False, 'brunch': False, 'breakfast': False}, null, null, null, null, null, null, None, null, null, null, null, null, False, null, null, null, null, null}           |\n",
      "|{null, null, 'none', {'touristy': None, 'hipster': None, 'romantic': False, 'divey': None, 'intimate': None, 'trendy': None, 'upscale': None, 'classy': None, 'casual': True}, null, null, null, False, null, True, {'garage': None, 'street': False, 'validated': None, 'lot': True, 'valet': False}, null, null, null, null, null, null, null, null, True, {'dessert': False, 'latenight': False, 'lunch': False, 'dinner': False, 'brunch': False, 'breakfast': False}, null, null, True, null, null, null, False, 'casual', null, True, True, 1, False, null, True, null, null, u'no'}                  |\n",
      "|{null, null, null, null, null, null, null, null, null, null, null, True, null, null, null, null, null, null, null, null, null, null, null, null, null, null, null, null, null, null, null, null, null, null, null, null, null, null, null}                                                                                                                                                                                                                                                                                                                                                                  |\n",
      "|{null, null, u'none', {'romantic': False, 'intimate': False, 'touristy': False, 'hipster': False, 'divey': False, 'classy': False, 'trendy': False, 'upscale': False, 'casual': True}, null, null, null, True, False, True, {'garage': False, 'street': False, 'validated': False, 'lot': True, 'valet': False}, null, True, null, null, null, null, null, null, True, {'dessert': False, 'latenight': False, 'lunch': True, 'dinner': False, 'brunch': False, 'breakfast': False}, null, null, True, null, u'average', null, False, u'casual', null, True, False, 1, False, False, True, null, True, u'no'}|\n",
      "|{null, null, 'full_bar', {'touristy': False, 'hipster': False, 'romantic': False, 'divey': False, 'intimate': False, 'trendy': False, 'upscale': False, 'classy': True, 'casual': False}, null, null, null, null, null, True, {u'valet': False, u'garage': None, u'street': True, u'lot': False, u'validated': None}, null, null, null, null, null, False, null, null, False, {'dessert': True, 'latenight': None, 'lunch': None, 'dinner': True, 'brunch': None, 'breakfast': None}, null, True, False, null, u'average', null, True, 'casual', null, True, True, 2, True, True, True, null, True, 'free'} |\n",
      "|{null, null, null, null, null, null, null, null, null, True, null, False, null, null, null, null, null, False, null, null, null, null, null, null, null, null, null, null, null, null, null, null, null, null, null, null, null, null, u'free'}                                                                                                                                                                                                                                                                                                                                                             |\n",
      "|{null, null, null, null, null, null, null, True, null, True, {'garage': False, 'street': True, 'validated': False, 'lot': False, 'valet': False}, null, null, null, null, null, null, null, null, null, null, null, null, null, null, null, null, null, null, null, null, null, 2, null, null, null, null, null, null}                                                                                                                                                                                                                                                                                      |\n",
      "|{null, null, u'none', {'touristy': False, 'hipster': False, 'romantic': False, 'divey': False, 'intimate': None, 'trendy': False, 'upscale': False, 'classy': False, 'casual': True}, null, null, null, True, null, True, {'garage': False, 'street': True, 'validated': False, 'lot': False, 'valet': False}, null, True, null, null, null, null, null, null, True, {'dessert': False, 'latenight': False, 'lunch': True, 'dinner': True, 'brunch': False, 'breakfast': False}, null, null, True, null, u'quiet', null, None, u'casual', null, None, False, 1, False, True, True, null, null, u'no'}       |\n",
      "|{null, null, u'beer_and_wine', {'romantic': False, 'intimate': False, 'classy': False, 'hipster': True, 'touristy': False, 'trendy': True, 'upscale': False, 'casual': False}, null, null, null, null, null, null, {'garage': False, 'street': True, 'validated': False, 'lot': True, 'valet': False}, null, True, null, null, null, null, null, null, False, null, null, null, False, null, u'average', null, False, u'casual', null, False, True, 2, False, null, True, null, null, u'free'}                                                                                                              |\n",
      "|{null, null, null, null, null, null, null, False, null, True, {'garage': False, 'street': False, 'validated': False, 'lot': True, 'valet': False}, null, null, null, null, null, null, null, null, null, null, null, null, null, null, null, null, null, null, null, null, null, 2, null, null, null, null, null, null}                                                                                                                                                                                                                                                                                     |\n",
      "+------------------------------------------------------------------------------------------------------------------------------------------------------------------------------------------------------------------------------------------------------------------------------------------------------------------------------------------------------------------------------------------------------------------------------------------------------------------------------------------------------------------------------------------------------------------------------------------------------------+\n",
      "only showing top 20 rows\n",
      "\n"
     ]
    }
   ],
   "source": [
    "output=spark.sql('''select attributes from business_table where attributes is not null''')\n",
    "output.show(truncate=False)"
   ]
  },
  {
   "cell_type": "code",
   "execution_count": 31,
   "id": "8d0506eb",
   "metadata": {},
   "outputs": [
    {
     "name": "stdout",
     "output_type": "stream",
     "text": [
      "+--------------------+----------------+-----------+-----------+--------------------+----+-----------+----------+-----------+----------------------+--------------------------+--------------------+-----------------+------+---------+-------+-------------------+-----------+---------+--------------+-----------+--------------------+-----------------+---------+-----+-----+----------+-----------+--------------+-----------------+-------------------------+-------------------+------------------------+----------------------+-----------------------+-----------------------+------------------+-------+--------------------+-------+\n",
      "|         business_id|AcceptsInsurance|AgesAllowed|    Alcohol|            Ambience|BYOB|BYOBCorkage|BestNights|BikeParking|BusinessAcceptsBitcoin|BusinessAcceptsCreditCards|     BusinessParking|ByAppointmentOnly|Caters|CoatCheck|Corkage|DietaryRestrictions|DogsAllowed|DriveThru|GoodForDancing|GoodForKids|         GoodForMeal|HairSpecializesIn|HappyHour|HasTV|Music|NoiseLevel|Open24Hours|OutdoorSeating|RestaurantsAttire|RestaurantsCounterService|RestaurantsDelivery|RestaurantsGoodForGroups|RestaurantsPriceRange2|RestaurantsReservations|RestaurantsTableService|RestaurantsTakeOut|Smoking|WheelchairAccessible|   WiFi|\n",
      "+--------------------+----------------+-----------+-----------+--------------------+----+-----------+----------+-----------+----------------------+--------------------------+--------------------+-----------------+------+---------+-------+-------------------+-----------+---------+--------------+-----------+--------------------+-----------------+---------+-----+-----+----------+-----------+--------------+-----------------+-------------------------+-------------------+------------------------+----------------------+-----------------------+-----------------------+------------------+-------+--------------------+-------+\n",
      "|Pns2l4eNsfO8kk83d...|            null|       null|       null|                null|null|       null|      null|       null|                  null|                      null|                null|             True|  null|     null|   null|               null|       null|     null|          null|       null|                null|             null|     null| null| null|      null|       null|          null|             null|                     null|               null|                    null|                  null|                   null|                   null|              null|   null|                null|   null|\n",
      "|mpf3x-BjTdTEA3yCZ...|            null|       null|       null|                null|null|       null|      null|       null|                  null|                      True|                null|             null|  null|     null|   null|               null|       null|     null|          null|       null|                null|             null|     null| null| null|      null|       null|          null|             null|                     null|               null|                    null|                  null|                   null|                   null|              null|   null|                null|   null|\n",
      "|tUFrWirKiKi_TAnsV...|            null|       null|       null|                null|null|       null|      null|       True|                  null|                      True|{'garage': False,...|            False| False|    False|   null|               null|      False|     null|          null|       null|                null|             null|    False|False| null|      null|       null|         False|             null|                     null|              False|                    null|                     2|                  False|                   null|             False|   null|                True|  u'no'|\n",
      "|MTSW4McQd7CbVtyjq...|            null|       null|    u'none'|                null|null|       null|      null|       True|                  null|                     False|{'garage': False,...|            False|  True|     null|   null|               null|       null|     null|          null|       null|                null|             null|     null| null| null|      null|       null|         False|             null|                     null|              False|                    null|                     1|                   null|                   null|              True|   null|                null|u'free'|\n",
      "|mWMc6_wTdE0EUBKIG...|            null|       null|       null|                null|null|       null|      null|       True|                  null|                      True|{'garage': None, ...|             null| False|     null|   null|               null|       null|     null|          null|       True|                null|             null|     null| null| null|      null|       null|          null|             null|                     null|               null|                    null|                  null|                   null|                   null|              True|   null|                True|   null|\n",
      "|CF33F8-E6oudUQ46H...|            null|       null|    u'none'|                None|null|       null|      null|      False|                  null|                      True|                None|            False| False|    False|   null|               null|      False|     True|          null|       True|                null|             null|    False| True| null|      null|       null|          True|        u'casual'|                     null|               True|                    True|                     1|                  False|                  False|              True|   null|                True|  u'no'|\n",
      "|n_0UpQx1hsNbnPUSl...|            null|       null|       null|                null|null|       null|      null|       True|                  null|                      True|{'garage': False,...|             null|  null|     null|   null|               null|       null|     null|          null|       null|                null|             null|     null| null| null|      null|       null|          null|             null|                     null|               null|                    null|                     2|                   null|                   null|              null|   null|                null|   null|\n",
      "|qkRM_2X51Yqxk3btl...|            null|       null|       null|                null|null|       null|      null|       null|                  null|                      null|                null|             null|  null|     null|   null|               null|       null|     null|          null|       null|                null|             null|     null| null| null|      null|       null|          null|             null|                     null|               null|                    null|                  null|                   null|                   null|              null|   null|                null|   null|\n",
      "|k0hlBqXX-Bt0vf1op...|            null|       null|u'full_bar'|{'romantic': Fals...|null|       null|      null|       null|                  null|                      True|{'garage': False,...|             null|  True|     null|   null|               null|       null|     null|          null|       True|                null|             null|     null| True| null|u'average'|       null|          True|        u'casual'|                     null|              False|                    True|                     1|                  False|                   null|              True|   null|                null|u'free'|\n",
      "|bBDDEgkFA1Otx9Lfe...|            null|       null|    u'none'|                null|null|       null|      null|       null|                  null|                      True|{'garage': False,...|            False| False|    False|   null|               null|      False|     True|          null|       True|                null|             null|    False| True| null|      null|       null|          True|         'casual'|                     null|               True|                   False|                     1|                  False|                  False|              True|   null|                True|  u'no'|\n",
      "|UJsufbvfyfONHeWdv...|            null|       null|       null|                null|null|       null|      null|       True|                  null|                      True|{'garage': False,...|             null|  null|     null|   null|               null|       null|     null|          null|       null|                null|             null|     null| null| null|      null|       null|          null|             null|                     null|               null|                    null|                     2|                   null|                   null|              null|   null|                null|   null|\n",
      "|eEOYSgkmpB90uNA7l...|            null|       null|     'none'|{'touristy': Fals...|null|       null|      null|       null|                  null|                      null|{'garage': False,...|             null|  null|     null|   null|               null|       null|     null|          null|       null|{'dessert': False...|             null|     null| null| null|      null|       null|          None|             null|                     null|               null|                    null|                  null|                  False|                   null|              null|   null|                null|   null|\n",
      "|il_Ro8jwPlHresjw9...|            null|       null|     'none'|{'touristy': None...|null|       null|      null|      False|                  null|                      True|{'garage': None, ...|             null|  null|     null|   null|               null|       null|     null|          null|       True|{'dessert': False...|             null|     null| True| null|      null|       null|         False|         'casual'|                     null|               True|                    True|                     1|                  False|                   null|              True|   null|                null|  u'no'|\n",
      "|jaxMSoInw8Poo3XeM...|            null|       null|       null|                null|null|       null|      null|       null|                  null|                      null|                null|             True|  null|     null|   null|               null|       null|     null|          null|       null|                null|             null|     null| null| null|      null|       null|          null|             null|                     null|               null|                    null|                  null|                   null|                   null|              null|   null|                null|   null|\n",
      "|0bPLkL0QhhPO5kt1_...|            null|       null|    u'none'|{'romantic': Fals...|null|       null|      null|       True|                 False|                      True|{'garage': False,...|             null|  True|     null|   null|               null|       null|     null|          null|       True|{'dessert': False...|             null|     null| True| null|u'average'|       null|         False|        u'casual'|                     null|               True|                   False|                     1|                  False|                  False|              True|   null|                True|  u'no'|\n",
      "|MUTTqe8uqyMdBl186...|            null|       null| 'full_bar'|{'touristy': Fals...|null|       null|      null|       null|                  null|                      True|{u'valet': False,...|             null|  null|     null|   null|               null|      False|     null|          null|      False|{'dessert': True,...|             null|     True|False| null|u'average'|       null|          True|         'casual'|                     null|               True|                    True|                     2|                   True|                   True|              True|   null|                True| 'free'|\n",
      "|rBmpy_Y1UbBx8ggHl...|            null|       null|       null|                null|null|       null|      null|       null|                  null|                      True|                null|            False|  null|     null|   null|               null|       null|    False|          null|       null|                null|             null|     null| null| null|      null|       null|          null|             null|                     null|               null|                    null|                  null|                   null|                   null|              null|   null|                null|u'free'|\n",
      "|M0XSSHqrASOnhgbWD...|            null|       null|       null|                null|null|       null|      null|       True|                  null|                      True|{'garage': False,...|             null|  null|     null|   null|               null|       null|     null|          null|       null|                null|             null|     null| null| null|      null|       null|          null|             null|                     null|               null|                    null|                     2|                   null|                   null|              null|   null|                null|   null|\n",
      "|8wGISYjYkE2tSqn3c...|            null|       null|       null|                null|null|       null|      null|       null|                  null|                      null|                null|             null|  null|     null|   null|               null|       null|     null|          null|       null|                null|             null|     null| null| null|      null|       null|          null|             null|                     null|               null|                    null|                  null|                   null|                   null|              null|   null|                null|   null|\n",
      "|ROeacJQwBeh05Rqg7...|            null|       null|    u'none'|{'touristy': Fals...|null|       null|      null|       True|                  null|                      True|{'garage': False,...|             null|  True|     null|   null|               null|       null|     null|          null|       True|{'dessert': False...|             null|     null| True| null|  u'quiet'|       null|          None|        u'casual'|                     null|               None|                   False|                     1|                  False|                   True|              True|   null|                null|  u'no'|\n",
      "+--------------------+----------------+-----------+-----------+--------------------+----+-----------+----------+-----------+----------------------+--------------------------+--------------------+-----------------+------+---------+-------+-------------------+-----------+---------+--------------+-----------+--------------------+-----------------+---------+-----+-----+----------+-----------+--------------+-----------------+-------------------------+-------------------+------------------------+----------------------+-----------------------+-----------------------+------------------+-------+--------------------+-------+\n",
      "only showing top 20 rows\n",
      "\n"
     ]
    }
   ],
   "source": [
    "# Extract JSON values using Spark SQL\n",
    "spark.sql(\"\"\"\n",
    "    CREATE OR REPLACE TEMPORARY VIEW attributes_table AS\n",
    "    SELECT\n",
    "    business_id,\n",
    "        attributes.AcceptsInsurance,\n",
    "        attributes.AgesAllowed,\n",
    "        attributes.Alcohol,\n",
    "       attributes.Ambience,\n",
    " attributes.BYOB,\n",
    "  attributes.BYOBCorkage,\n",
    "  attributes.BestNights,\n",
    " attributes.BikeParking,\n",
    " attributes.BusinessAcceptsBitcoin,\n",
    " attributes.BusinessAcceptsCreditCards,\n",
    " attributes.BusinessParking,\n",
    " attributes.ByAppointmentOnly,\n",
    " attributes.Caters,\n",
    " attributes.CoatCheck,\n",
    " attributes.Corkage,\n",
    "  attributes.DietaryRestrictions,\n",
    "  attributes.DogsAllowed,\n",
    " attributes.DriveThru,\n",
    "  attributes.GoodForDancing,\n",
    "  attributes.GoodForKids,\n",
    "  attributes.GoodForMeal,\n",
    "  attributes.HairSpecializesIn,\n",
    "  attributes.HappyHour,\n",
    "  attributes.HasTV,\n",
    "  attributes.Music,\n",
    "  attributes.NoiseLevel,\n",
    "  attributes.Open24Hours,\n",
    "  attributes.OutdoorSeating,\n",
    "  attributes.RestaurantsAttire,\n",
    "  attributes.RestaurantsCounterService,\n",
    "  attributes.RestaurantsDelivery,\n",
    "  attributes.RestaurantsGoodForGroups,\n",
    "  attributes.RestaurantsPriceRange2,\n",
    "  attributes.RestaurantsReservations,\n",
    "  attributes.RestaurantsTableService,\n",
    "  attributes.RestaurantsTakeOut,\n",
    "  attributes.Smoking,\n",
    " attributes.WheelchairAccessible,\n",
    " attributes.WiFi\n",
    "    FROM\n",
    "        business_table\n",
    "\"\"\")\n",
    "\n",
    "# Query the new table\n",
    "spark.sql(\"SELECT * FROM attributes_table\").show()\n",
    "\n"
   ]
  },
  {
   "cell_type": "code",
   "execution_count": 32,
   "id": "9ce86f7d",
   "metadata": {},
   "outputs": [
    {
     "name": "stdout",
     "output_type": "stream",
     "text": [
      "+--------+\n",
      "|count(1)|\n",
      "+--------+\n",
      "|  150346|\n",
      "+--------+\n",
      "\n"
     ]
    }
   ],
   "source": [
    "spark.sql('''select count(*) from attributes_table''').show()"
   ]
  },
  {
   "cell_type": "code",
   "execution_count": 33,
   "id": "29154551",
   "metadata": {},
   "outputs": [],
   "source": [
    "attributes_df=spark.table(\"attributes_table\")"
   ]
  },
  {
   "cell_type": "code",
   "execution_count": 34,
   "id": "af5e9e27",
   "metadata": {},
   "outputs": [
    {
     "name": "stdout",
     "output_type": "stream",
     "text": [
      "root\n",
      " |-- business_id: string (nullable = true)\n",
      " |-- AcceptsInsurance: string (nullable = true)\n",
      " |-- AgesAllowed: string (nullable = true)\n",
      " |-- Alcohol: string (nullable = true)\n",
      " |-- Ambience: string (nullable = true)\n",
      " |-- BYOB: string (nullable = true)\n",
      " |-- BYOBCorkage: string (nullable = true)\n",
      " |-- BestNights: string (nullable = true)\n",
      " |-- BikeParking: string (nullable = true)\n",
      " |-- BusinessAcceptsBitcoin: string (nullable = true)\n",
      " |-- BusinessAcceptsCreditCards: string (nullable = true)\n",
      " |-- BusinessParking: string (nullable = true)\n",
      " |-- ByAppointmentOnly: string (nullable = true)\n",
      " |-- Caters: string (nullable = true)\n",
      " |-- CoatCheck: string (nullable = true)\n",
      " |-- Corkage: string (nullable = true)\n",
      " |-- DietaryRestrictions: string (nullable = true)\n",
      " |-- DogsAllowed: string (nullable = true)\n",
      " |-- DriveThru: string (nullable = true)\n",
      " |-- GoodForDancing: string (nullable = true)\n",
      " |-- GoodForKids: string (nullable = true)\n",
      " |-- GoodForMeal: string (nullable = true)\n",
      " |-- HairSpecializesIn: string (nullable = true)\n",
      " |-- HappyHour: string (nullable = true)\n",
      " |-- HasTV: string (nullable = true)\n",
      " |-- Music: string (nullable = true)\n",
      " |-- NoiseLevel: string (nullable = true)\n",
      " |-- Open24Hours: string (nullable = true)\n",
      " |-- OutdoorSeating: string (nullable = true)\n",
      " |-- RestaurantsAttire: string (nullable = true)\n",
      " |-- RestaurantsCounterService: string (nullable = true)\n",
      " |-- RestaurantsDelivery: string (nullable = true)\n",
      " |-- RestaurantsGoodForGroups: string (nullable = true)\n",
      " |-- RestaurantsPriceRange2: string (nullable = true)\n",
      " |-- RestaurantsReservations: string (nullable = true)\n",
      " |-- RestaurantsTableService: string (nullable = true)\n",
      " |-- RestaurantsTakeOut: string (nullable = true)\n",
      " |-- Smoking: string (nullable = true)\n",
      " |-- WheelchairAccessible: string (nullable = true)\n",
      " |-- WiFi: string (nullable = true)\n",
      "\n"
     ]
    }
   ],
   "source": [
    "attributes_df.printSchema()"
   ]
  },
  {
   "cell_type": "code",
   "execution_count": 35,
   "id": "8a3d93e3",
   "metadata": {},
   "outputs": [
    {
     "name": "stdout",
     "output_type": "stream",
     "text": [
      "Missing values in business_id: 0.00%  and total count:  0\n",
      "Missing values in AcceptsInsurance: 96.20%  and total count:  144633\n",
      "Missing values in AgesAllowed: 99.91%  and total count:  150217\n",
      "Missing values in Alcohol: 71.27%  and total count:  107157\n",
      "Missing values in Ambience: 70.55%  and total count:  106067\n",
      "Missing values in BYOB: 97.04%  and total count:  145895\n",
      "Missing values in BYOBCorkage: 99.04%  and total count:  148902\n",
      "Missing values in BestNights: 96.21%  and total count:  144652\n",
      "Missing values in BikeParking: 51.69%  and total count:  77708\n",
      "Missing values in BusinessAcceptsBitcoin: 88.41%  and total count:  132916\n",
      "Missing values in BusinessAcceptsCreditCards: 20.34%  and total count:  30581\n",
      "Missing values in BusinessParking: 39.42%  and total count:  59261\n",
      "Missing values in ByAppointmentOnly: 71.84%  and total count:  108007\n",
      "Missing values in Caters: 73.31%  and total count:  110219\n",
      "Missing values in CoatCheck: 96.29%  and total count:  144762\n",
      "Missing values in Corkage: 97.64%  and total count:  146793\n",
      "Missing values in DietaryRestrictions: 99.98%  and total count:  150315\n",
      "Missing values in DogsAllowed: 87.84%  and total count:  132062\n",
      "Missing values in DriveThru: 94.84%  and total count:  142586\n",
      "Missing values in GoodForDancing: 96.92%  and total count:  145718\n",
      "Missing values in GoodForKids: 64.50%  and total count:  96971\n",
      "Missing values in GoodForMeal: 80.65%  and total count:  121259\n",
      "Missing values in HairSpecializesIn: 99.29%  and total count:  149281\n",
      "Missing values in HappyHour: 89.91%  and total count:  135175\n",
      "Missing values in HasTV: 70.01%  and total count:  105262\n",
      "Missing values in Music: 95.00%  and total count:  142825\n",
      "Missing values in NoiseLevel: 74.73%  and total count:  112353\n",
      "Missing values in Open24Hours: 99.97%  and total count:  150307\n",
      "Missing values in OutdoorSeating: 67.54%  and total count:  101544\n",
      "Missing values in RestaurantsAttire: 73.89%  and total count:  111091\n",
      "Missing values in RestaurantsCounterService: 99.99%  and total count:  150327\n",
      "Missing values in RestaurantsDelivery: 62.57%  and total count:  94064\n",
      "Missing values in RestaurantsGoodForGroups: 70.62%  and total count:  106176\n",
      "Missing values in RestaurantsPriceRange2: 43.25%  and total count:  65032\n",
      "Missing values in RestaurantsReservations: 69.90%  and total count:  105099\n",
      "Missing values in RestaurantsTableService: 86.71%  and total count:  130364\n",
      "Missing values in RestaurantsTakeOut: 60.19%  and total count:  90489\n",
      "Missing values in Smoking: 96.96%  and total count:  145779\n",
      "Missing values in WheelchairAccessible: 80.74%  and total count:  121393\n",
      "Missing values in WiFi: 62.14%  and total count:  93432\n"
     ]
    }
   ],
   "source": [
    "#Missing values\n",
    "from pyspark.sql.functions import col, isnull\n",
    "\n",
    "# Missing values\n",
    "total_rows = attributes_df.count()\n",
    "for i in range(len(attributes_df.columns)):\n",
    "    column_name = attributes_df.columns[i]\n",
    "    n = attributes_df.filter(isnull(col(column_name))).count()\n",
    "    p = (n / total_rows) * 100\n",
    "    print(f\"Missing values in {column_name}: {p:.2f}%\",' and total count: ',n)"
   ]
  },
  {
   "cell_type": "code",
   "execution_count": 36,
   "id": "b40bb9c4",
   "metadata": {},
   "outputs": [
    {
     "name": "stdout",
     "output_type": "stream",
     "text": [
      "+----------------------+----------------------+--------------------------+-------------------------------------------+-----+-----+--------------------+\n",
      "|business_id           |BusinessAcceptsBitcoin|BusinessAcceptsCreditCards|categories                                 |city |state|name                |\n",
      "+----------------------+----------------------+--------------------------+-------------------------------------------+-----+-----+--------------------+\n",
      "|0bPLkL0QhhPO5kt1_EXmNQ|False                 |True                      |Food, Delis, Italian, Bakeries, Restaurants|Largo|FL   |Zio's Italian Market|\n",
      "+----------------------+----------------------+--------------------------+-------------------------------------------+-----+-----+--------------------+\n",
      "\n"
     ]
    }
   ],
   "source": [
    "spark.sql('''select b.business_id,\n",
    "a.BusinessAcceptsBitcoin,\n",
    "a.BusinessAcceptsCreditCards,\n",
    "b.categories,\n",
    "b.city,\n",
    "b.state,\n",
    "b.name\n",
    "from business_table b,\n",
    "attributes_table a\n",
    "where b.business_id=a.business_id\n",
    "and b.business_id='0bPLkL0QhhPO5kt1_EXmNQ'\n",
    "''').show(truncate=False)"
   ]
  },
  {
   "cell_type": "code",
   "execution_count": 37,
   "id": "8a254d03",
   "metadata": {},
   "outputs": [
    {
     "name": "stdout",
     "output_type": "stream",
     "text": [
      "+---------+---------+---------+\n",
      "|min_stars|max_stars|avg_stars|\n",
      "+---------+---------+---------+\n",
      "|      1.0|      5.0|      3.6|\n",
      "+---------+---------+---------+\n",
      "\n"
     ]
    }
   ],
   "source": [
    "spark.sql('''\n",
    "select min(stars) as min_stars, max(stars) as max_stars, round(avg(stars),2) as avg_stars\n",
    "from business_table\n",
    "''').show()"
   ]
  },
  {
   "cell_type": "code",
   "execution_count": 38,
   "id": "e1838376",
   "metadata": {},
   "outputs": [
    {
     "name": "stdout",
     "output_type": "stream",
     "text": [
      "+-----------------------+\n",
      "|categories             |\n",
      "+-----------------------+\n",
      "|Auto Repair, Automotive|\n",
      "+-----------------------+\n",
      "\n"
     ]
    }
   ],
   "source": [
    "#Find category with more number of 5 stars\n",
    "output=spark.sql(\n",
    "'''SELECT categories\n",
    "FROM business_table\n",
    "WHERE stars = 5\n",
    "GROUP BY categories\n",
    "HAVING COUNT(*) = (\n",
    "    SELECT MAX(category_count)\n",
    "    FROM (\n",
    "        SELECT COUNT(*) AS category_count\n",
    "        FROM business_table\n",
    "        WHERE stars = 5\n",
    "        GROUP BY categories\n",
    "    )\n",
    ")\n",
    "'''\n",
    ")\n",
    "output.show(truncate=False)"
   ]
  },
  {
   "cell_type": "code",
   "execution_count": 24,
   "id": "e2e4f864",
   "metadata": {},
   "outputs": [
    {
     "name": "stdout",
     "output_type": "stream",
     "text": [
      "+-----------------------+-----+-----------+\n",
      "|categories             |stars|total_count|\n",
      "+-----------------------+-----+-----------+\n",
      "|Auto Repair, Automotive|5.0  |128        |\n",
      "|Auto Repair, Automotive|4.5  |100        |\n",
      "|Auto Repair, Automotive|4.0  |50         |\n",
      "|Auto Repair, Automotive|3.5  |36         |\n",
      "|Auto Repair, Automotive|3.0  |14         |\n",
      "|Auto Repair, Automotive|2.5  |13         |\n",
      "|Auto Repair, Automotive|1.0  |4          |\n",
      "|Auto Repair, Automotive|2.0  |4          |\n",
      "|Auto Repair, Automotive|1.5  |2          |\n",
      "+-----------------------+-----+-----------+\n",
      "\n"
     ]
    }
   ],
   "source": [
    "output=spark.sql('''\n",
    "select * from (select categories, stars, count(stars) as total_count\n",
    "from business_table\n",
    "group by categories,stars\n",
    ")\n",
    "where categories='Auto Repair, Automotive'\n",
    "order by total_count desc\n",
    "''')\n",
    "output.show(truncate=False)\n",
    "output.write.option(\"header\",True).csv(\"C:/Supriyaa-spark-notes/tableau files/Business/category_more_5stars_stardistribution.csv\")"
   ]
  },
  {
   "cell_type": "code",
   "execution_count": 25,
   "id": "10f6fbf6",
   "metadata": {},
   "outputs": [
    {
     "name": "stdout",
     "output_type": "stream",
     "text": [
      "+-----------------------+-----+----------------+-----+-----------+\n",
      "|categories             |stars|city            |state|total_count|\n",
      "+-----------------------+-----+----------------+-----+-----------+\n",
      "|Auto Repair, Automotive|5.0  |Philadelphia    |PA   |13         |\n",
      "|Auto Repair, Automotive|5.0  |Tucson          |AZ   |9          |\n",
      "|Auto Repair, Automotive|5.0  |Nashville       |TN   |7          |\n",
      "|Auto Repair, Automotive|5.0  |Saint Louis     |MO   |6          |\n",
      "|Auto Repair, Automotive|5.0  |Tampa           |FL   |6          |\n",
      "|Auto Repair, Automotive|5.0  |Santa Barbara   |CA   |5          |\n",
      "|Auto Repair, Automotive|5.0  |Wilmington      |DE   |5          |\n",
      "|Auto Repair, Automotive|5.0  |Goleta          |CA   |4          |\n",
      "|Auto Repair, Automotive|5.0  |Sparks          |NV   |4          |\n",
      "|Auto Repair, Automotive|5.0  |Safety Harbor   |FL   |3          |\n",
      "|Auto Repair, Automotive|5.0  |Pinellas Park   |FL   |3          |\n",
      "|Auto Repair, Automotive|5.0  |Levittown       |PA   |2          |\n",
      "|Auto Repair, Automotive|5.0  |Metairie        |LA   |2          |\n",
      "|Auto Repair, Automotive|5.0  |Saint Petersburg|FL   |2          |\n",
      "|Auto Repair, Automotive|5.0  |Reno            |NV   |2          |\n",
      "|Auto Repair, Automotive|5.0  |Warminster      |PA   |2          |\n",
      "|Auto Repair, Automotive|5.0  |Clearwater      |FL   |2          |\n",
      "|Auto Repair, Automotive|5.0  |Media           |PA   |2          |\n",
      "|Auto Repair, Automotive|5.0  |Indianapolis    |IN   |2          |\n",
      "|Auto Repair, Automotive|5.0  |Garden City     |ID   |2          |\n",
      "+-----------------------+-----+----------------+-----+-----------+\n",
      "only showing top 20 rows\n",
      "\n"
     ]
    }
   ],
   "source": [
    "output=spark.sql('''\n",
    "select * from (select categories, stars,city,state, count(stars) as total_count\n",
    "from business_table\n",
    "group by categories,stars,city,state\n",
    "order by stars desc,total_count desc\n",
    ")\n",
    "where categories='Auto Repair, Automotive'\n",
    "''')\n",
    "output.show(truncate=False)\n",
    "output.write.option(\"header\",True).csv(\"C:/Supriyaa-spark-notes/tableau files/Business/categories_more_5stars_state_dist.csv\")"
   ]
  },
  {
   "cell_type": "code",
   "execution_count": 41,
   "id": "554f8b64",
   "metadata": {},
   "outputs": [
    {
     "name": "stdout",
     "output_type": "stream",
     "text": [
      "+-----------------------------------------------------------------------------------------------------------------------------------------------------------------------------------------------+\n",
      "|categories                                                                                                                                                                                     |\n",
      "+-----------------------------------------------------------------------------------------------------------------------------------------------------------------------------------------------+\n",
      "|Dog Walkers, Pet Services, Health & Medical, Reiki, Pet Sitting, Pets                                                                                                                          |\n",
      "|Community Service/Non-Profit, Local Services, Active Life, Botanical Gardens, Arts & Entertainment, Local Flavor, Parks                                                                        |\n",
      "|Home Services, Contractors, Landscaping, Tree Services                                                                                                                                         |\n",
      "|Advertising, Real Estate, Real Estate Photography, Real Estate Services, Event Photography, Session Photography, Home Services, Event Planning & Services, Professional Services, Photographers|\n",
      "|Used, Vintage & Consignment, Home Services, Home & Garden, Home Decor, Fashion, Antiques, Home Staging, Shopping, Furniture Stores, Real Estate                                                |\n",
      "|Fashion, Women's Clothing, Flowers & Gifts, Shopping, Jewelry, Accessories, Gift Shops                                                                                                         |\n",
      "|Jewelry, Florists, Flowers & Gifts, Shopping                                                                                                                                                   |\n",
      "|Food Stands, Restaurants                                                                                                                                                                       |\n",
      "|Diagnostic Imaging, Health & Medical, Professional Services, Diagnostic Services                                                                                                               |\n",
      "|Shopping, Jewelry, Local Services, Watch Repair, Jewelry Repair, Watches                                                                                                                       |\n",
      "|Pets, Pet Services, Pet Sitting, Pet Training                                                                                                                                                  |\n",
      "|Art Galleries, Shopping, Local Flavor, Arts & Entertainment                                                                                                                                    |\n",
      "|Contractors, Painters, Home Services                                                                                                                                                           |\n",
      "|Lawyers, Personal Injury Law, Professional Services                                                                                                                                            |\n",
      "|Contractors, Garage Door Services, Home Services                                                                                                                                               |\n",
      "|Home Services, Painters, Contractors, Pressure Washers, Shopping, Fences & Gates, Flooring, Home & Garden, Door Sales/Installation, Kitchen & Bath, Home Inspectors                            |\n",
      "|Health & Medical, Sports Medicine, Doctors, Radiologists                                                                                                                                       |\n",
      "|Breakfast & Brunch, Restaurants, Dominican, Caribbean, Food, Coffee & Tea                                                                                                                      |\n",
      "|Eyelash Service, Beauty & Spas, Skin Care, Eyebrow Services                                                                                                                                    |\n",
      "|Financial Advising, Financial Services, Professional Services, Tax Services, Accountants                                                                                                       |\n",
      "+-----------------------------------------------------------------------------------------------------------------------------------------------------------------------------------------------+\n",
      "only showing top 20 rows\n",
      "\n"
     ]
    }
   ],
   "source": [
    "#Find category with least number of 5 stars\n",
    "spark.sql(\n",
    "'''SELECT categories\n",
    "FROM business_table\n",
    "WHERE stars = 5\n",
    "GROUP BY categories\n",
    "HAVING COUNT(*) = (\n",
    "    SELECT MIN(category_count)\n",
    "    FROM (\n",
    "        SELECT COUNT(*) AS category_count\n",
    "        FROM business_table\n",
    "        WHERE stars = 5\n",
    "        GROUP BY categories\n",
    "    )\n",
    ")\n",
    "'''\n",
    ").show(truncate=False)"
   ]
  },
  {
   "cell_type": "code",
   "execution_count": 42,
   "id": "45eb0323",
   "metadata": {},
   "outputs": [
    {
     "name": "stdout",
     "output_type": "stream",
     "text": [
      "+------------------------------------+-----+-----------+\n",
      "|categories                          |stars|total_count|\n",
      "+------------------------------------+-----+-----------+\n",
      "|Contractors, Painters, Home Services|5.0  |1          |\n",
      "|Contractors, Painters, Home Services|3.5  |2          |\n",
      "|Contractors, Painters, Home Services|3.0  |2          |\n",
      "|Contractors, Painters, Home Services|2.5  |1          |\n",
      "+------------------------------------+-----+-----------+\n",
      "\n"
     ]
    }
   ],
   "source": [
    "spark.sql('''\n",
    "select * from (select categories, stars, count(stars) as total_count\n",
    "from business_table\n",
    "group by categories,stars\n",
    ")\n",
    "where categories='Contractors, Painters, Home Services'\n",
    "order by stars desc\n",
    "''').show(truncate=False)"
   ]
  },
  {
   "cell_type": "code",
   "execution_count": 43,
   "id": "6696ba82",
   "metadata": {},
   "outputs": [
    {
     "name": "stdout",
     "output_type": "stream",
     "text": [
      "+---------------------+\n",
      "|name                 |\n",
      "+---------------------+\n",
      "|Painting with a Twist|\n",
      "+---------------------+\n",
      "\n"
     ]
    }
   ],
   "source": [
    "#Find business with more number of 5 stars\n",
    "spark.sql(\n",
    "'''SELECT name\n",
    "FROM business_table\n",
    "WHERE stars = 5\n",
    "GROUP BY name\n",
    "HAVING COUNT(*) = (\n",
    "    SELECT MAX(name_count)\n",
    "    FROM (\n",
    "        SELECT COUNT(*) AS name_count\n",
    "        FROM business_table\n",
    "        WHERE stars = 5\n",
    "        GROUP BY name\n",
    "    )\n",
    ")\n",
    "'''\n",
    ").show(truncate=False)"
   ]
  },
  {
   "cell_type": "code",
   "execution_count": 44,
   "id": "9b1118ef",
   "metadata": {},
   "outputs": [
    {
     "name": "stdout",
     "output_type": "stream",
     "text": [
      "+----------------------+\n",
      "|business_id           |\n",
      "+----------------------+\n",
      "|1dSKEitDDgIkaApe6UNMSA|\n",
      "|adATTqggIQX5xxLDISkFTw|\n",
      "|4grfwtBDji5tZ7AxYCXCzQ|\n",
      "|iipnazeY9eoANJ37l5fKwA|\n",
      "|sk2lZI4zmuGAccd3DLCnBw|\n",
      "|SPhcwEy32VV8dsaRStj-qg|\n",
      "|sEBL8OtHzw2ctY69D1aoaA|\n",
      "|6xXgtiKNqni1UdMacNGTFw|\n",
      "|PPJL9EbIM6B6r86Gf-H0nw|\n",
      "|uft8PlHObqze95tve1yQVA|\n",
      "|efou6IrwQhHAXZ0e0v0Gkw|\n",
      "|bi3SICnYEuFC7Cihyqz8Nw|\n",
      "|kKb00Oj96n5YYqMSDzx1IA|\n",
      "|GL6QZaCH8EGv1Rn3vDNIVg|\n",
      "|mxrl1SSM04F4DYP8dUwL2A|\n",
      "|JujePuViptUIgGNiaWblkA|\n",
      "|FxAnPjRkh-3OY7qdZ7hqFg|\n",
      "|qmxmUc4xzNt3ogaZLH8Eiw|\n",
      "|nDeDis86-fkO_2m2N0EELw|\n",
      "|HtplZd3pECmiewb9Lj88yQ|\n",
      "+----------------------+\n",
      "only showing top 20 rows\n",
      "\n"
     ]
    }
   ],
   "source": [
    "#Find business_id with more number of 5 stars\n",
    "spark.sql(\n",
    "'''SELECT business_id\n",
    "FROM business_table\n",
    "WHERE stars = 5\n",
    "GROUP BY business_id\n",
    "HAVING COUNT(*) = (\n",
    "    SELECT MAX(id_count)\n",
    "    FROM (\n",
    "        SELECT COUNT(*) AS id_count\n",
    "        FROM business_table\n",
    "        WHERE stars = 5\n",
    "        GROUP BY business_id\n",
    "    )\n",
    ")\n",
    "'''\n",
    ").show(truncate=False)"
   ]
  },
  {
   "cell_type": "code",
   "execution_count": 45,
   "id": "b2b4a923",
   "metadata": {},
   "outputs": [
    {
     "name": "stdout",
     "output_type": "stream",
     "text": [
      "+---------------------+-----+------------+-----+-----------+\n",
      "|name                 |stars|city        |state|total_count|\n",
      "+---------------------+-----+------------+-----+-----------+\n",
      "|Painting with a Twist|5.0  |Philadelphia|PA   |3          |\n",
      "|Painting with a Twist|5.0  |Ballwin     |MO   |1          |\n",
      "|Painting with a Twist|5.0  |Nashville   |TN   |1          |\n",
      "|Painting with a Twist|5.0  |Trinity     |FL   |1          |\n",
      "|Painting with a Twist|5.0  |Bensalem    |PA   |1          |\n",
      "|Painting with a Twist|5.0  |Brandon     |FL   |1          |\n",
      "|Painting with a Twist|5.0  |Mount Laurel|NJ   |1          |\n",
      "|Painting with a Twist|5.0  |Haddonfield |NJ   |1          |\n",
      "|Painting with a Twist|5.0  |Gretna      |LA   |1          |\n",
      "|Painting with a Twist|5.0  |Skippack    |PA   |1          |\n",
      "|Painting with a Twist|5.0  |Clearwater  |FL   |1          |\n",
      "|Painting with a Twist|5.0  |Media       |PA   |1          |\n",
      "|Painting with a Twist|4.5  |Tampa       |FL   |3          |\n",
      "|Painting with a Twist|4.5  |Wilmington  |DE   |1          |\n",
      "|Painting with a Twist|4.5  |Marlton     |NJ   |1          |\n",
      "|Painting with a Twist|4.5  |Metairie    |LA   |1          |\n",
      "|Painting with a Twist|4.5  |Jenkintown  |PA   |1          |\n",
      "|Painting with a Twist|4.5  |Warrington  |PA   |1          |\n",
      "|Painting with a Twist|4.5  |Carmel      |IN   |1          |\n",
      "|Painting with a Twist|4.5  |Philadelphia|PA   |1          |\n",
      "+---------------------+-----+------------+-----+-----------+\n",
      "only showing top 20 rows\n",
      "\n"
     ]
    }
   ],
   "source": [
    "spark.sql('''\n",
    "select * from (select name, stars,city,state, count(stars) as total_count\n",
    "from business_table\n",
    "group by name,stars,city,state\n",
    "order by stars desc,total_count desc\n",
    ")\n",
    "where name='Painting with a Twist'\n",
    "''').show(truncate=False)"
   ]
  },
  {
   "cell_type": "code",
   "execution_count": 46,
   "id": "977175af",
   "metadata": {},
   "outputs": [
    {
     "name": "stdout",
     "output_type": "stream",
     "text": [
      "+--------------------+-----+--------------------+------------+-----+-----------+\n",
      "|                name|stars|          categories|        city|state|total_count|\n",
      "+--------------------+-----+--------------------+------------+-----+-----------+\n",
      "|Painting with a T...|  5.0|Arts & Entertainm...|Philadelphia|   PA|          1|\n",
      "|Painting with a T...|  5.0|Education, Arts &...|Philadelphia|   PA|          1|\n",
      "|Painting with a T...|  5.0|Paint & Sip, Art ...|Philadelphia|   PA|          1|\n",
      "|Painting with a T...|  4.5|Paint & Sip, Art ...|Philadelphia|   PA|          1|\n",
      "+--------------------+-----+--------------------+------------+-----+-----------+\n",
      "\n"
     ]
    }
   ],
   "source": [
    "spark.sql('''\n",
    "select * from (select name, stars,categories,city,state, count(stars) as total_count\n",
    "from business_table\n",
    "group by name,stars,city,state,categories\n",
    "order by stars desc,total_count desc\n",
    ")\n",
    "where name='Painting with a Twist'\n",
    "and city='Philadelphia'\n",
    "''').show()"
   ]
  },
  {
   "cell_type": "code",
   "execution_count": 14,
   "id": "91fac093",
   "metadata": {},
   "outputs": [
    {
     "name": "stdout",
     "output_type": "stream",
     "text": [
      "+----------------------+-----------+-----------+-----------+-----------+-----------+-----------+----------+\n",
      "|business_id           |Monday     |Tuesday    |Wednesday  |Thursday   |Friday     |Saturday   |Sunday    |\n",
      "+----------------------+-----------+-----------+-----------+-----------+-----------+-----------+----------+\n",
      "|Pns2l4eNsfO8kk83dixA6A|null       |null       |null       |null       |null       |null       |null      |\n",
      "|mpf3x-BjTdTEA3yCZrAYPw|0:0-0:0    |8:0-18:30  |8:0-18:30  |8:0-18:30  |8:0-18:30  |8:0-14:0   |null      |\n",
      "|tUFrWirKiKi_TAnsVWINQQ|8:0-22:0   |8:0-22:0   |8:0-22:0   |8:0-22:0   |8:0-23:0   |8:0-23:0   |8:0-22:0  |\n",
      "|MTSW4McQd7CbVtyjqoe9mw|7:0-20:0   |7:0-20:0   |7:0-20:0   |7:0-20:0   |7:0-21:0   |7:0-21:0   |7:0-21:0  |\n",
      "|mWMc6_wTdE0EUBKIGXDVfA|null       |null       |14:0-22:0  |16:0-22:0  |12:0-22:0  |12:0-22:0  |12:0-18:0 |\n",
      "|CF33F8-E6oudUQ46HnavjQ|0:0-0:0    |6:0-22:0   |6:0-22:0   |6:0-22:0   |9:0-0:0    |9:0-22:0   |8:0-22:0  |\n",
      "|n_0UpQx1hsNbnPUSlodU8w|0:0-0:0    |10:0-18:0  |10:0-18:0  |10:0-18:0  |10:0-18:0  |10:0-18:0  |12:0-18:0 |\n",
      "|qkRM_2X51Yqxk3btlwAQIg|9:0-17:0   |9:0-17:0   |9:0-17:0   |9:0-17:0   |9:0-17:0   |null       |null      |\n",
      "|k0hlBqXX-Bt0vf1op7Jr1w|null       |null       |null       |null       |null       |null       |null      |\n",
      "|bBDDEgkFA1Otx9Lfe7BZUQ|0:0-0:0    |6:0-21:0   |6:0-21:0   |6:0-16:0   |6:0-16:0   |6:0-17:0   |6:0-21:0  |\n",
      "|UJsufbvfyfONHeWdvAHKjA|9:30-21:30 |9:30-21:30 |9:30-21:30 |9:30-21:30 |9:30-21:30 |9:30-21:30 |10:0-20:0 |\n",
      "|eEOYSgkmpB90uNA7lDOMRA|11:0-14:0  |11:0-14:0  |11:0-14:0  |11:0-14:0  |11:0-14:0  |5:0-10:0   |15:0-18:0 |\n",
      "|il_Ro8jwPlHresjw9EGmBg|6:0-22:0   |6:0-22:0   |6:0-22:0   |6:0-22:0   |6:0-22:0   |6:0-22:0   |6:0-22:0  |\n",
      "|jaxMSoInw8Poo3XeMJt8lQ|7:30-15:30 |7:30-15:30 |7:30-15:30 |7:30-15:30 |null       |null       |null      |\n",
      "|0bPLkL0QhhPO5kt1_EXmNQ|10:0-18:0  |10:0-20:0  |10:0-20:0  |10:0-20:0  |10:0-20:0  |10:0-20:0  |null      |\n",
      "|MUTTqe8uqyMdBl186RmNeA|null       |13:30-22:0 |13:30-22:0 |13:30-22:0 |13:30-23:0 |13:30-23:0 |13:30-22:0|\n",
      "|rBmpy_Y1UbBx8ggHlyb7hA|0:0-0:0    |8:0-17:0   |8:0-17:0   |8:0-17:0   |8:0-17:0   |8:0-14:0   |0:0-0:0   |\n",
      "|M0XSSHqrASOnhgbWDJIpQA|10:0-19:0  |10:0-19:0  |10:0-19:0  |10:0-19:0  |10:0-19:0  |10:0-19:0  |10:0-19:0 |\n",
      "|8wGISYjYkE2tSqn3cDMu8A|8:0-17:0   |8:0-17:0   |8:0-17:0   |8:0-17:0   |8:0-17:0   |9:0-15:0   |9:0-12:0  |\n",
      "|ROeacJQwBeh05Rqg7F6TCg|11:30-20:30|11:30-20:30|11:30-20:30|11:30-20:30|11:30-20:30|11:30-20:30|null      |\n",
      "+----------------------+-----------+-----------+-----------+-----------+-----------+-----------+----------+\n",
      "only showing top 20 rows\n",
      "\n"
     ]
    }
   ],
   "source": [
    "hours_df = business_df.select(\n",
    "    \"business_id\",\n",
    "    \"hours.Monday\",\n",
    "    \"hours.Tuesday\",\n",
    "    \"hours.Wednesday\",\n",
    "    \"hours.Thursday\",\n",
    "    \"hours.Friday\",\n",
    "    \"hours.Saturday\",\n",
    "    \"hours.Sunday\",\n",
    ")\n",
    "\n",
    "# Create a temporary view for the hours DataFrame\n",
    "hours_df.createOrReplaceTempView(\"hours_table\")\n",
    "\n",
    "# Perform any desired operations on the hours table\n",
    "result = spark.sql(\"SELECT * FROM hours_table\")\n",
    "\n",
    "# Show the result\n",
    "result.show(truncate=False)"
   ]
  },
  {
   "cell_type": "code",
   "execution_count": 48,
   "id": "970b81b5",
   "metadata": {},
   "outputs": [
    {
     "name": "stdout",
     "output_type": "stream",
     "text": [
      "+--------------------+--------------------+-----------+-----------+-----------+-----------+-----------+-----------+----------+\n",
      "|                name|         business_id|     Monday|    Tuesday|  Wednesday|   Thursday|     Friday|   Saturday|    Sunday|\n",
      "+--------------------+--------------------+-----------+-----------+-----------+-----------+-----------+-----------+----------+\n",
      "|Abby Rappoport, L...|Pns2l4eNsfO8kk83d...|       null|       null|       null|       null|       null|       null|      null|\n",
      "|       The UPS Store|mpf3x-BjTdTEA3yCZ...|    0:0-0:0|  8:0-18:30|  8:0-18:30|  8:0-18:30|  8:0-18:30|   8:0-14:0|      null|\n",
      "|              Target|tUFrWirKiKi_TAnsV...|   8:0-22:0|   8:0-22:0|   8:0-22:0|   8:0-22:0|   8:0-23:0|   8:0-23:0|  8:0-22:0|\n",
      "|  St Honore Pastries|MTSW4McQd7CbVtyjq...|   7:0-20:0|   7:0-20:0|   7:0-20:0|   7:0-20:0|   7:0-21:0|   7:0-21:0|  7:0-21:0|\n",
      "|Perkiomen Valley ...|mWMc6_wTdE0EUBKIG...|       null|       null|  14:0-22:0|  16:0-22:0|  12:0-22:0|  12:0-22:0| 12:0-18:0|\n",
      "|      Sonic Drive-In|CF33F8-E6oudUQ46H...|    0:0-0:0|   6:0-22:0|   6:0-22:0|   6:0-22:0|    9:0-0:0|   9:0-22:0|  8:0-22:0|\n",
      "|     Famous Footwear|n_0UpQx1hsNbnPUSl...|    0:0-0:0|  10:0-18:0|  10:0-18:0|  10:0-18:0|  10:0-18:0|  10:0-18:0| 12:0-18:0|\n",
      "|      Temple Beth-El|qkRM_2X51Yqxk3btl...|   9:0-17:0|   9:0-17:0|   9:0-17:0|   9:0-17:0|   9:0-17:0|       null|      null|\n",
      "|Tsevi's Pub And G...|k0hlBqXX-Bt0vf1op...|       null|       null|       null|       null|       null|       null|      null|\n",
      "|      Sonic Drive-In|bBDDEgkFA1Otx9Lfe...|    0:0-0:0|   6:0-21:0|   6:0-21:0|   6:0-16:0|   6:0-16:0|   6:0-17:0|  6:0-21:0|\n",
      "|           Marshalls|UJsufbvfyfONHeWdv...| 9:30-21:30| 9:30-21:30| 9:30-21:30| 9:30-21:30| 9:30-21:30| 9:30-21:30| 10:0-20:0|\n",
      "|Vietnamese Food T...|eEOYSgkmpB90uNA7l...|  11:0-14:0|  11:0-14:0|  11:0-14:0|  11:0-14:0|  11:0-14:0|   5:0-10:0| 15:0-18:0|\n",
      "|             Denny's|il_Ro8jwPlHresjw9...|   6:0-22:0|   6:0-22:0|   6:0-22:0|   6:0-22:0|   6:0-22:0|   6:0-22:0|  6:0-22:0|\n",
      "|        Adams Dental|jaxMSoInw8Poo3XeM...| 7:30-15:30| 7:30-15:30| 7:30-15:30| 7:30-15:30|       null|       null|      null|\n",
      "|Zio's Italian Market|0bPLkL0QhhPO5kt1_...|  10:0-18:0|  10:0-20:0|  10:0-20:0|  10:0-20:0|  10:0-20:0|  10:0-20:0|      null|\n",
      "|            Tuna Bar|MUTTqe8uqyMdBl186...|       null| 13:30-22:0| 13:30-22:0| 13:30-22:0| 13:30-23:0| 13:30-23:0|13:30-22:0|\n",
      "|Arizona Truck Out...|rBmpy_Y1UbBx8ggHl...|    0:0-0:0|   8:0-17:0|   8:0-17:0|   8:0-17:0|   8:0-17:0|   8:0-14:0|   0:0-0:0|\n",
      "|      Herb Import Co|M0XSSHqrASOnhgbWD...|  10:0-19:0|  10:0-19:0|  10:0-19:0|  10:0-19:0|  10:0-19:0|  10:0-19:0| 10:0-19:0|\n",
      "|    Nifty Car Rental|8wGISYjYkE2tSqn3c...|   8:0-17:0|   8:0-17:0|   8:0-17:0|   8:0-17:0|   8:0-17:0|   9:0-15:0|  9:0-12:0|\n",
      "|                 BAP|ROeacJQwBeh05Rqg7...|11:30-20:30|11:30-20:30|11:30-20:30|11:30-20:30|11:30-20:30|11:30-20:30|      null|\n",
      "+--------------------+--------------------+-----------+-----------+-----------+-----------+-----------+-----------+----------+\n",
      "only showing top 20 rows\n",
      "\n"
     ]
    }
   ],
   "source": [
    "spark.sql('''select b.name,h.* \n",
    "from business_table b,hours_table h \n",
    "where b.business_id=h.business_id''').show()"
   ]
  },
  {
   "cell_type": "code",
   "execution_count": 49,
   "id": "bfd5e675",
   "metadata": {},
   "outputs": [
    {
     "name": "stdout",
     "output_type": "stream",
     "text": [
      "+---------------------+---------------------------------------------------------+-------+-----+----------------------+------+-------+---------+--------+------+--------+------+\n",
      "|name                 |categories                                               |city   |state|business_id           |Monday|Tuesday|Wednesday|Thursday|Friday|Saturday|Sunday|\n",
      "+---------------------+---------------------------------------------------------+-------+-----+----------------------+------+-------+---------+--------+------+--------+------+\n",
      "|Painting with a Twist|Paint & Sip, Education, Art Classes, Arts & Entertainment|Ballwin|MO   |N2vUq6LOvvRzKB5zj4v0Rw|null  |null   |null     |null    |null  |null    |null  |\n",
      "+---------------------+---------------------------------------------------------+-------+-----+----------------------+------+-------+---------+--------+------+--------+------+\n",
      "\n"
     ]
    }
   ],
   "source": [
    "spark.sql('''select b.name,b.categories,b.city,b.state,h.* \n",
    "from business_table b,hours_table h \n",
    "where b.business_id=h.business_id\n",
    "and b.name='Painting with a Twist'\n",
    "and b.business_id = 'N2vUq6LOvvRzKB5zj4v0Rw'\n",
    "''').show(truncate=False)"
   ]
  },
  {
   "cell_type": "code",
   "execution_count": 26,
   "id": "7c67caf2",
   "metadata": {},
   "outputs": [
    {
     "name": "stdout",
     "output_type": "stream",
     "text": [
      "+-------------+-------------+\n",
      "|         city|total_reviews|\n",
      "+-------------+-------------+\n",
      "| Philadelphia|       936240|\n",
      "|  New Orleans|       621361|\n",
      "|    Nashville|       441053|\n",
      "|        Tampa|       439506|\n",
      "|       Tucson|       387254|\n",
      "| Indianapolis|       349228|\n",
      "|         Reno|       334610|\n",
      "|Santa Barbara|       262853|\n",
      "|  Saint Louis|       244360|\n",
      "|        Boise|       101893|\n",
      "+-------------+-------------+\n",
      "\n"
     ]
    }
   ],
   "source": [
    "#top 10 cities with most reviews\n",
    "output=spark.sql('''\n",
    "SELECT city, SUM(review_count) AS total_reviews\n",
    "FROM business_table\n",
    "GROUP BY city\n",
    "ORDER BY total_reviews DESC\n",
    "LIMIT 10\n",
    "''')\n",
    "output.show()\n",
    "output.write.option(\"header\",True).csv(\"C:/Supriyaa-spark-notes/tableau files/Business/top_ten_cities_reviews.csv\")"
   ]
  },
  {
   "cell_type": "code",
   "execution_count": 27,
   "id": "6461b7ee",
   "metadata": {},
   "outputs": [
    {
     "name": "stdout",
     "output_type": "stream",
     "text": [
      "+-------------+---------+\n",
      "|         city|total_bus|\n",
      "+-------------+---------+\n",
      "| Philadelphia|    14569|\n",
      "|       Tucson|     9250|\n",
      "|        Tampa|     9050|\n",
      "| Indianapolis|     7540|\n",
      "|    Nashville|     6971|\n",
      "|  New Orleans|     6209|\n",
      "|         Reno|     5935|\n",
      "|     Edmonton|     5054|\n",
      "|  Saint Louis|     4827|\n",
      "|Santa Barbara|     3829|\n",
      "+-------------+---------+\n",
      "\n"
     ]
    }
   ],
   "source": [
    "#top 10 cities with more number of business_id\n",
    "output=spark.sql('''\n",
    "SELECT city, count(business_id) AS total_bus\n",
    "FROM business_table\n",
    "GROUP BY city\n",
    "ORDER BY total_bus DESC\n",
    "LIMIT 10\n",
    "''')\n",
    "output.show()\n",
    "output.write.option(\"header\",True).csv(\"C:/Supriyaa-spark-notes/tableau files/Business/top_ten_cities_ids.csv\")"
   ]
  },
  {
   "cell_type": "code",
   "execution_count": 52,
   "id": "7b82169a",
   "metadata": {},
   "outputs": [
    {
     "name": "stdout",
     "output_type": "stream",
     "text": [
      "+-------------+----------+\n",
      "|         city|total_name|\n",
      "+-------------+----------+\n",
      "| Philadelphia|     14569|\n",
      "|       Tucson|      9250|\n",
      "|        Tampa|      9050|\n",
      "| Indianapolis|      7540|\n",
      "|    Nashville|      6971|\n",
      "|  New Orleans|      6209|\n",
      "|         Reno|      5935|\n",
      "|     Edmonton|      5054|\n",
      "|  Saint Louis|      4827|\n",
      "|Santa Barbara|      3829|\n",
      "+-------------+----------+\n",
      "\n"
     ]
    }
   ],
   "source": [
    "#top 10 cities with more number of name\n",
    "spark.sql('''\n",
    "SELECT city, count(name) AS total_name\n",
    "FROM business_table\n",
    "GROUP BY city\n",
    "ORDER BY total_name DESC\n",
    "LIMIT 10\n",
    "''').show()"
   ]
  },
  {
   "cell_type": "code",
   "execution_count": 28,
   "id": "b4dafac3",
   "metadata": {},
   "outputs": [
    {
     "name": "stdout",
     "output_type": "stream",
     "text": [
      "+-------------+-----------+\n",
      "|         city|total_stars|\n",
      "+-------------+-----------+\n",
      "| Philadelphia|      14569|\n",
      "|       Tucson|       9250|\n",
      "|        Tampa|       9050|\n",
      "| Indianapolis|       7540|\n",
      "|    Nashville|       6971|\n",
      "|  New Orleans|       6209|\n",
      "|         Reno|       5935|\n",
      "|     Edmonton|       5054|\n",
      "|  Saint Louis|       4827|\n",
      "|Santa Barbara|       3829|\n",
      "+-------------+-----------+\n",
      "\n"
     ]
    }
   ],
   "source": [
    "#cities with more stars\n",
    "output=spark.sql('''\n",
    "SELECT city, count(stars) AS total_stars\n",
    "FROM business_table\n",
    "GROUP BY city\n",
    "ORDER BY total_stars DESC\n",
    "LIMIT 10\n",
    "''')\n",
    "output.show()\n",
    "output.write.option(\"header\",True).csv(\"C:/Supriyaa-spark-notes/tableau files/Business/top_ten_cities_stars.csv\")"
   ]
  },
  {
   "cell_type": "code",
   "execution_count": 29,
   "id": "776f1845",
   "metadata": {},
   "outputs": [
    {
     "name": "stdout",
     "output_type": "stream",
     "text": [
      "+-----+---------+\n",
      "|state|total_bus|\n",
      "+-----+---------+\n",
      "|   PA|    34039|\n",
      "|   FL|    26330|\n",
      "|   TN|    12056|\n",
      "|   IN|    11247|\n",
      "|   MO|    10913|\n",
      "|   LA|     9924|\n",
      "|   AZ|     9912|\n",
      "|   NJ|     8536|\n",
      "|   NV|     7715|\n",
      "|   AB|     5573|\n",
      "+-----+---------+\n",
      "\n"
     ]
    }
   ],
   "source": [
    "#top 10 states with more number of businesses\n",
    "output=spark.sql('''\n",
    "SELECT state, count(business_id) AS total_bus\n",
    "FROM business_table\n",
    "GROUP BY state\n",
    "ORDER BY total_bus DESC\n",
    "LIMIT 10\n",
    "''')\n",
    "output.show()\n",
    "output.write.option(\"header\",True).csv(\"C:/Supriyaa-spark-notes/tableau files/Business/top_ten_states_business.csv\")"
   ]
  },
  {
   "cell_type": "code",
   "execution_count": 31,
   "id": "dbbe8637",
   "metadata": {},
   "outputs": [
    {
     "name": "stdout",
     "output_type": "stream",
     "text": [
      "+-----+-------------+\n",
      "|state|total_reviews|\n",
      "+-----+-------------+\n",
      "|   PA|      1540790|\n",
      "|   FL|      1119926|\n",
      "|   LA|       743176|\n",
      "|   TN|       598195|\n",
      "|   MO|       483897|\n",
      "|   IN|       472565|\n",
      "|   AZ|       412639|\n",
      "|   NV|       409950|\n",
      "|   CA|       339637|\n",
      "|   NJ|       249837|\n",
      "+-----+-------------+\n",
      "\n"
     ]
    }
   ],
   "source": [
    "#top 10 states with most reviews\n",
    "output=spark.sql('''\n",
    "SELECT state, SUM(review_count) AS total_reviews\n",
    "FROM business_table\n",
    "GROUP BY state\n",
    "ORDER BY total_reviews DESC\n",
    "LIMIT 10\n",
    "''')\n",
    "output.show()\n",
    "output.write.option(\"header\",True).csv(\"C:/Supriyaa-spark-notes/tableau files/Business/top_ten_state_reviews.csv\")"
   ]
  },
  {
   "cell_type": "code",
   "execution_count": 30,
   "id": "917510aa",
   "metadata": {},
   "outputs": [
    {
     "name": "stdout",
     "output_type": "stream",
     "text": [
      "+-----+-----------+\n",
      "|state|total_stars|\n",
      "+-----+-----------+\n",
      "|   PA|      34039|\n",
      "|   FL|      26330|\n",
      "|   TN|      12056|\n",
      "|   IN|      11247|\n",
      "|   MO|      10913|\n",
      "|   LA|       9924|\n",
      "|   AZ|       9912|\n",
      "|   NJ|       8536|\n",
      "|   NV|       7715|\n",
      "|   AB|       5573|\n",
      "+-----+-----------+\n",
      "\n"
     ]
    }
   ],
   "source": [
    "#top 10 states with more stars\n",
    "output=spark.sql('''\n",
    "SELECT state, count(stars) AS total_stars\n",
    "FROM business_table\n",
    "GROUP BY state\n",
    "ORDER BY total_stars DESC\n",
    "LIMIT 10\n",
    "''')\n",
    "output.show()\n",
    "output.write.option(\"header\",True).csv(\"C:/Supriyaa-spark-notes/tableau files/Business/top_ten_state_star.csv\")"
   ]
  },
  {
   "cell_type": "code",
   "execution_count": 57,
   "id": "0c8f55f0",
   "metadata": {},
   "outputs": [
    {
     "name": "stdout",
     "output_type": "stream",
     "text": [
      "+--------------------+--------------------+--------------------+--------------------+------------+--------------------+-------+-------------+---------------+--------------------+-----------+------------+-----+-----+\n",
      "|             address|          attributes|         business_id|          categories|        city|               hours|is_open|     latitude|      longitude|                name|postal_code|review_count|stars|state|\n",
      "+--------------------+--------------------+--------------------+--------------------+------------+--------------------+-------+-------------+---------------+--------------------+-----------+------------+-----+-----+\n",
      "|904 Clearwater La...|{null, null, null...|jkY8aotwcAlSHCgoZ...|Home & Garden, Lo...|       Largo|                null|      0|   27.9251193|    -82.7959877|  Bay Area Appliance|      33770|           5|  1.0|   FL|\n",
      "|                    |{null, null, null...|8oi1Gm7XLyK31Y3N3...|Plumbing, Home Se...|    Smithton|{9:0-17:0, 9:0-17...|      1|      38.3935|       -90.0107|A & A Complete Se...|      62285|          11|  1.0|   IL|\n",
      "|                    |                null|usv5G5cO314pPHRTG...|Tours, Walking To...|Philadelphia|                null|      1|   40.1197128|    -75.0097103|          Best Tours|      19019|          38|  1.0|   PA|\n",
      "|      805 Kuenzli St|{null, null, null...|sKdF_rwYyLa2NM1dl...|Real Estate, Apar...|        Reno|{8:0-17:0, 8:0-17...|      1|     39.52862|    -119.802018|Riverwood Apartments|      89502|          18|  1.0|   NV|\n",
      "|  3175 JFK Boulevard|{null, null, null...|xY0jpu0zzGEBr-bGB...|Apartments, Unive...|Philadelphia|{9:0-18:0, 9:0-18...|      1|     39.95604|     -75.187797|University Crossings|      19104|          15|  1.0|   PA|\n",
      "|2245 S Kingshighw...|                null|CrF8GhrF8KJikwugS...|Automotive, Auto ...| Saint Louis|                null|      1|   38.6133033|    -90.2678361|   Xtreme Automotive|      63110|           6|  1.0|   MO|\n",
      "|1215 Gallatin Pike S|                null|BFf44roOiEodYRu06...|Car Wash, Automotive|     Madison|{7:0-20:0, 7:0-20...|      1|   36.2467393|    -86.7204366|Wash N' Roll Car ...|      37115|           8|  1.0|   TN|\n",
      "|                    |{null, null, null...|ygnm0ze5oL4E9Jpys...|Limos, Party Bus ...|   Tampa Bay|{8:0-0:0, 8:0-0:0...|      1|   27.8585758|    -82.3397635|     Absolute Luxury|      33578|           5|  1.0|   FL|\n",
      "|      2690 N 1st Ave|                null|L9gZiajtCvwr96vCV...|Local Services, P...|      Tucson|                null|      1|   32.2559704|   -110.9605081|Creative Beginnin...|      85719|          23|  1.0|   AZ|\n",
      "|  2960 N Meridian St|                null|v5nFmEgsJL8Cqk_9o...|Travel Services, ...|Indianapolis|{7:0-18:0, 7:0-18...|      1|    39.809651|     -86.158532|International Med...|      46208|         129|  1.0|   IN|\n",
      "|1916 Old Cuthbert Rd|                null|oFcqP3WFAtXgt162A...|Gutter Services, ...| Cherry Hill|                null|      1|      39.9169|      -74.97572|Core Property Ser...|      08034|           7|  1.0|   NJ|\n",
      "|1700 E Fort Lowel...|                null|wYnM2hu7l83HeRDZC...|Property Manageme...|      Tucson|{9:0-17:30, 9:0-1...|      1|32.2641514437|-110.9462645061|Axiom Properties ...|      85719|           9|  1.0|   AZ|\n",
      "|   443 Opry Mills Dr|{null, null, null...|g7GCbnZC_HKO0ybNt...|Chicken Wings, Fa...|   Nashville|                null|      1|    36.202427|     -86.692898|Popeyes Louisiana...|      37214|           6|  1.0|   TN|\n",
      "|    5029 Gravois Ave|{null, null, null...|ehl5FH2MUjrF96m4F...|Real Estate, Prof...| Saint Louis|{9:30-18:0, 9:30-...|      1|   38.5807704|    -90.2682947|         Rent Source|      63116|          13|  1.0|   MO|\n",
      "|    378 Western Blvd|{null, null, null...|y8GId04Q7slRzgFYq...|Dry Cleaning & La...|   Greenwood|{7:0-19:0, 7:0-18...|      1|   39.6190635|    -86.2116805|    Tuchman Cleaners|      46142|           5|  1.0|   IN|\n",
      "|     3370 Kietzke Ln|                null|rCEi9tljwv3c3r3K2...|Furniture Stores,...|        Reno|{10:0-20:0, 10:0-...|      1|   39.4925938|   -119.7881107|             Aaron's|      89502|           7|  1.0|   NV|\n",
      "|West Edmonton Mal...|{null, null, null...|EbrK0e_Mv-B4bM_xL...|Shopping, Fashion...|    Edmonton|{10:0-21:0, 10:0-...|      1|   53.5235519|   -113.6157074|       Style America|    T5T 3J7|           7|  1.0|   AB|\n",
      "|       4444 City Ave|{null, null, null...|qluIWCzDpeZfddykm...|Hotels, Event Pla...|Philadelphia|                null|      1|   40.0031369|    -75.2213329|North American Mo...|      19131|          25|  1.0|   PA|\n",
      "|       19387 US 19 N|                null|ZR7jsiG-jZHSIgegd...|Doctors, Health &...|  Clearwater|                null|      1|   27.9490661|    -82.7282821|             Lincare|      33764|           5|  1.0|   FL|\n",
      "|    4226 Chester Ave|{null, null, null...|Mw4seO5ZXpAIHxVnW...|Home Services, Ap...|Philadelphia|                null|      1|    39.948116|     -75.208422|  Apartments By Lego|      19104|           6|  1.0|   PA|\n",
      "+--------------------+--------------------+--------------------+--------------------+------------+--------------------+-------+-------------+---------------+--------------------+-----------+------------+-----+-----+\n",
      "only showing top 20 rows\n",
      "\n"
     ]
    }
   ],
   "source": [
    "# all details of business with min star\n",
    "spark.sql('''\n",
    "select * \n",
    "from business_table\n",
    "where stars=(select min(stars) from business_table)\n",
    "''').show()"
   ]
  },
  {
   "cell_type": "code",
   "execution_count": 58,
   "id": "44a050d8",
   "metadata": {},
   "outputs": [
    {
     "name": "stdout",
     "output_type": "stream",
     "text": [
      "+--------------------+--------------------+--------------------+--------------------+-------------+--------------------+-------+-------------+---------------+--------------------+-----------+------------+-----+-----+\n",
      "|             address|          attributes|         business_id|          categories|         city|               hours|is_open|     latitude|      longitude|                name|postal_code|review_count|stars|state|\n",
      "+--------------------+--------------------+--------------------+--------------------+-------------+--------------------+-------+-------------+---------------+--------------------+-----------+------------+-----+-----+\n",
      "|1616 Chapala St, ...|{null, null, null...|Pns2l4eNsfO8kk83d...|Doctors, Traditio...|Santa Barbara|                null|      0|   34.4266787|   -119.7111968|Abby Rappoport, L...|      93101|           7|  5.0|   CA|\n",
      "|   15 N Missouri Ave|{null, null, null...|jaxMSoInw8Poo3XeM...|General Dentistry...|   Clearwater|{null, 7:30-15:30...|      1|    27.966235|     -82.787412|        Adams Dental|      33755|          10|  5.0|   FL|\n",
      "|       662 Durham Rd|                null|PSo_C1Sfa13JHjzVN...|Pet Services, Pet...|      Newtown|{8:0-17:0, 8:0-19...|      1|   40.2734926|     -74.987496|Indian Walk Veter...|      18940|          15|  5.0|   PA|\n",
      "| 1301 N Milwaukee St|{null, null, null...|fvWn8oXXwbj2l79co...|Trampoline Parks,...|        Boise|{10:0-22:0, 10:0-...|      1|   43.6167635|   -116.2853821|Altitude Trampoli...|      83704|          30|  5.0|   ID|\n",
      "|                    |{null, null, null...|fSCNwMtNNQY9QT69C...|Musicians, DJs, K...|       Sparks|{9:0-17:0, 9:0-17...|      1|   39.5401545|   -119.7483949|   Sierra Pro Events|      89431|           7|  5.0|   NV|\n",
      "|  532 Rte 70 W, Fl 2|                null|lwItZ1Ck3KtpCgG4C...|DUI Law, Professi...|  Cherry Hill|{0:0-0:0, 0:0-0:0...|      1|    39.915478|     -75.016973|Stomel Elliot Att...|      08002|           5|  5.0|   NJ|\n",
      "|5343 Belleville C...|{null, null, null...|bCBPXIVfVzBZBEpFu...|Shipping Centers,...|   Belleville|                null|      1|   38.5175856|    -90.0219285|     All In Shipping|      62226|           5|  5.0|   IL|\n",
      "|    201 Jefferson St|{null, null, null...|ABxoFuzZy5mqQ8C5F...|Restaurants, Italian|  Bala Cynwyd|{15:0-20:30, null...|      1|   40.0283575|    -75.2380841|        Core de Roma|      19004|          12|  5.0|   PA|\n",
      "|                    |                null|REwfwz-_-CMQ7Np5U...|Real Estate Agent...|       Carmel|                null|      1|      39.9693|    -86.1650024|      Jennie Deckert|      46032|           7|  5.0|   IN|\n",
      "|    10588 109 Street|{null, null, u'no...|cVBxfMC4lp3DnocjY...|Coffee & Tea, Caf...|     Edmonton|{10:0-20:0, 0:0-0...|      0|   53.5496333|   -113.5087799|   Paws The Cat Cafe|    T5H 3B2|          20|  5.0|   AB|\n",
      "|                    |{null, null, null...|n7AQvGvNHlmun3kqX...|Local Services, A...|     Meridian|{8:30-15:0, 0:0-0...|      1|   43.6434944|   -116.4360004|Roy's Appliance S...|      83646|           5|  5.0|   ID|\n",
      "|       Truck Inn Way|{null, null, 'ful...|gbN4RuUiiBxQ2GBFQ...|   Food Trucks, Food|      Fernley|                null|      1|39.5139704538|-119.8472038094|       Mr. Margarita|      89408|           7|  5.0|   NV|\n",
      "|5624 E Washington St|{null, null, null...|vR9_bhoszcpXbB_AP...|Fashion, Shopping...| Indianapolis|{11:0-17:0, 11:0-...|      1|39.7709745063| -86.0711718384|          James Dant|      46219|          31|  5.0|   IN|\n",
      "|                    |{null, null, null...|RK6-cJ9hj53RzOlCB...|Restaurants, Ital...|        Tampa|{0:0-0:0, 0:0-0:0...|      1|    27.890814|    -82.5023464|             Impasto|      33611|           5|  5.0|   FL|\n",
      "|3363 E Presidenti...|                null|U2Tzy6J9aAAg9pzXs...|Real Estate, Home...|     Meridian|{0:0-0:0, 0:0-0:0...|      1|   43.6141936|   -116.3525001|Premier Mortgage ...|      83642|           6|  5.0|   ID|\n",
      "|1338 Bristol Pike...|{null, null, null...|8KMIT0NXu30Jz5Ojo...|Fitness & Instruc...|     Bensalem|{9:0-15:0, 9:0-19...|      1|   40.0722036|    -74.9644197|Cornerstone Physi...|      19020|           6|  5.0|   PA|\n",
      "|                    |{null, null, null...|bYjnX_J1bHZob10Do...|Parenting Classes...|Santa Barbara|{10:0-18:0, 0:0-0...|      1|    34.420334|   -119.7107494|Tinkle Belle Diap...|      93101|          17|  5.0|   CA|\n",
      "|    5703 W Morris St|{null, null, null...|Q3kQYhkYxSRyYyeBg...|Home Services, Gl...| Indianapolis|{8:0-17:0, 8:0-17...|      1|   39.7500892|    -86.2575225|Cook's Glass & Mi...|      46241|           5|  5.0|   IN|\n",
      "|325 Chestnut St, ...|{null, null, null...|GWGXTKR0Fhdvzf_is...|Real Estate, Home...| Philadelphia|{9:0-19:0, 9:0-19...|      1|39.9490268625| -75.1471895999|David Gower, Jr. ...|      19106|          17|  5.0|   PA|\n",
      "|            820 S St|{null, null, null...|h-y5azB-VlQAT3m7F...|Fashion, Shopping...| Philadelphia|                null|      1|    39.942515|     -75.156468|P's & Q's - Premi...|      19147|          16|  5.0|   PA|\n",
      "+--------------------+--------------------+--------------------+--------------------+-------------+--------------------+-------+-------------+---------------+--------------------+-----------+------------+-----+-----+\n",
      "only showing top 20 rows\n",
      "\n"
     ]
    }
   ],
   "source": [
    "# all details of business with max star\n",
    "spark.sql('''\n",
    "select * \n",
    "from business_table\n",
    "where stars=(select max(stars) from business_table)\n",
    "''').show()"
   ]
  },
  {
   "cell_type": "code",
   "execution_count": 59,
   "id": "eaff7a5c",
   "metadata": {},
   "outputs": [
    {
     "name": "stdout",
     "output_type": "stream",
     "text": [
      "+----------------+--------------------+--------------------+--------------------+-----------+--------------------+-------+----------+-----------+-----------------+-----------+------------+-----+-----+\n",
      "|         address|          attributes|         business_id|          categories|       city|               hours|is_open|  latitude|  longitude|             name|postal_code|review_count|stars|state|\n",
      "+----------------+--------------------+--------------------+--------------------+-----------+--------------------+-------+----------+-----------+-----------------+-----------+------------+-----+-----+\n",
      "|724 Iberville St|{null, null, 'ful...|_ab50qdWOk0DdB6XO...|Live/Raw Food, Se...|New Orleans|{11:0-22:0, 11:0-...|      1|29.9542735|-90.0689651|Acme Oyster House|      70130|        7568|  4.0|   LA|\n",
      "+----------------+--------------------+--------------------+--------------------+-----------+--------------------+-------+----------+-----------+-----------------+-----------+------------+-----+-----+\n",
      "\n"
     ]
    }
   ],
   "source": [
    "# all details of business with max review counts\n",
    "spark.sql('''\n",
    "select * \n",
    "from business_table\n",
    "where review_count=(select max(review_count) from business_table)\n",
    "''').show()"
   ]
  },
  {
   "cell_type": "code",
   "execution_count": 60,
   "id": "57a05bb0",
   "metadata": {},
   "outputs": [
    {
     "name": "stdout",
     "output_type": "stream",
     "text": [
      "+--------------------+--------------------+--------------------+--------------------+--------------+--------------------+-------+-------------+---------------+--------------------+-----------+------------+-----+-----+\n",
      "|             address|          attributes|         business_id|          categories|          city|               hours|is_open|     latitude|      longitude|                name|postal_code|review_count|stars|state|\n",
      "+--------------------+--------------------+--------------------+--------------------+--------------+--------------------+-------+-------------+---------------+--------------------+-----------+------------+-----+-----+\n",
      "|  400 Pasadena Ave S|                null|qkRM_2X51Yqxk3btl...|Synagogues, Relig...|St. Petersburg|{9:0-17:0, 9:0-17...|      1|     27.76659|     -82.732983|      Temple Beth-El|      33707|           5|  3.5|   FL|\n",
      "|        712 Adams St|{null, null, null...|M0XSSHqrASOnhgbWD...|Vape Shops, Tobac...|   New Orleans|{10:0-19:0, 10:0-...|      1|29.9414679565|  -90.129952757|      Herb Import Co|      70118|           5|  4.0|   LA|\n",
      "|  532 Rte 70 W, Fl 2|                null|lwItZ1Ck3KtpCgG4C...|DUI Law, Professi...|   Cherry Hill|{0:0-0:0, 0:0-0:0...|      1|    39.915478|     -75.016973|Stomel Elliot Att...|      08002|           5|  5.0|   NJ|\n",
      "|5343 Belleville C...|{null, null, null...|bCBPXIVfVzBZBEpFu...|Shipping Centers,...|    Belleville|                null|      1|   38.5175856|    -90.0219285|     All In Shipping|      62226|           5|  5.0|   IL|\n",
      "|                    |{null, null, null...|n7AQvGvNHlmun3kqX...|Local Services, A...|      Meridian|{8:30-15:0, 0:0-0...|      1|   43.6434944|   -116.4360004|Roy's Appliance S...|      83646|           5|  5.0|   ID|\n",
      "|   5203 99 Street NW|{null, null, null...|mFTaYsRDyeFaY2NDL...|Tabletop Games, S...|      Edmonton|{10:0-18:0, 10:0-...|      1|53.4893123495|-113.4855665582|    River City Games|    T6E 5B7|           5|  4.5|   AB|\n",
      "|   820 Industrial Dr|                null|sE6jSnvMts_MAn-b4...|Pet Groomers, Pet...|          Troy|{8:0-16:0, 8:0-16...|      1|   38.7162443|    -89.8858296|      K-9 Groom Room|      62294|           5|  4.0|   IL|\n",
      "|                    |{null, null, null...|RK6-cJ9hj53RzOlCB...|Restaurants, Ital...|         Tampa|{0:0-0:0, 0:0-0:0...|      1|    27.890814|    -82.5023464|             Impasto|      33611|           5|  5.0|   FL|\n",
      "|     1153 Byberry Rd|{null, null, null...|ZM46RDLXaFNo_z6t-...|Masonry/Concrete,...|      Bensalem|{7:0-17:0, 7:0-17...|      1|   40.1131212|    -74.9145975|Absolutely Perfec...|      19020|           5|  3.5|   PA|\n",
      "|5191 Meadowood Ma...|{null, null, u'no...|knQ4vIgx-r85kjlWV...|Sporting Goods, S...|          Reno|{10:0-21:0, 0:0-0...|      1|    39.476518|   -119.7840369|Silver and Blue O...|      89502|           5|  4.5|   NV|\n",
      "|1256 Valley Hill Trl|{null, null, null...|2n9HHBxG7yAyAUwXX...|Flooring, Handyma...|   Southampton|{8:0-18:0, 0:0-0:...|      1|   40.1690207|    -75.0093159|     Mighty Dustless|      18966|           5|  4.0|   PA|\n",
      "|4146 E Speedway Blvd|{null, null, null...|luGY5CJlb4CJ3LrBc...|Furniture Stores,...|        Tucson|{9:30-18:0, 9:30-...|      1|   32.2358661|   -110.9036755|Desert Design Center|      85712|           5|  3.0|   AZ|\n",
      "|    5703 W Morris St|{null, null, null...|Q3kQYhkYxSRyYyeBg...|Home Services, Gl...|  Indianapolis|{8:0-17:0, 8:0-17...|      1|   39.7500892|    -86.2575225|Cook's Glass & Mi...|      46241|           5|  5.0|   IN|\n",
      "|2616 Brill Rd, Ste A|{null, null, null...|U2htB9qk4hOXCdkcc...|Shopping, Books, ...|  Indianapolis|{11:0-19:0, null,...|      1|   39.7291579|    -86.1544775|            D's Toys|      46225|           5|  5.0|   IN|\n",
      "|          34 Ring Ln|{null, null, null...|5BYQP7i7ckUlgSzX4...|Home Cleaning, Ho...|     Levittown|{7:0-22:0, 7:0-22...|      1|   40.1502639|    -74.8448876|A-1 Expert Cleani...|      19055|           5|  5.0|   PA|\n",
      "|1901 E Washington St|{null, null, null...|xAAhPuZ8FG6OlvAw5...|Active Life, Play...|  Indianapolis|                null|      1|   39.7667851|      -86.12748|        Willard Park|      46201|           5|  3.5|   IN|\n",
      "|904 Clearwater La...|{null, null, null...|jkY8aotwcAlSHCgoZ...|Home & Garden, Lo...|         Largo|                null|      0|   27.9251193|    -82.7959877|  Bay Area Appliance|      33770|           5|  1.0|   FL|\n",
      "|   5112 E Fowler Ave|{null, null, u'no...|QjV4v7q_pt7tt3K1U...|Fast Food, Sandwi...|         Tampa|{11:0-21:0, 11:0-...|      1|28.0548882706|    -82.3995484|  PDQ Temple Terrace|      33617|           5|  3.0|   FL|\n",
      "|1125 W Chester Pi...|{null, null, null...|tVdJ7CgBGAQ_nLomY...|Wildlife Control,...|     Havertown|{0:0-0:0, 0:0-0:0...|      1|   39.9727224|    -75.3154587|Cunningham Pest C...|      19083|           5|  5.0|   PA|\n",
      "|    309 Florence Ave|                null|UoKkgWmE9-c3wbWwO...|Real Estate, Apar...|    Jenkintown|                null|      1|    40.094306|    -75.1352466|Beaver Hill Condo...|      19046|           5|  3.0|   PA|\n",
      "+--------------------+--------------------+--------------------+--------------------+--------------+--------------------+-------+-------------+---------------+--------------------+-----------+------------+-----+-----+\n",
      "only showing top 20 rows\n",
      "\n"
     ]
    }
   ],
   "source": [
    "# all details of business with min review counts\n",
    "spark.sql('''\n",
    "select * \n",
    "from business_table\n",
    "where review_count=(select min(review_count) from business_table)\n",
    "''').show()"
   ]
  },
  {
   "cell_type": "code",
   "execution_count": 32,
   "id": "698b28f6",
   "metadata": {},
   "outputs": [
    {
     "name": "stdout",
     "output_type": "stream",
     "text": [
      "+--------------------+-----------+\n",
      "|          categories|total_stars|\n",
      "+--------------------+-----------+\n",
      "|Beauty & Spas, Na...|       1012|\n",
      "|  Restaurants, Pizza|        935|\n",
      "|Nail Salons, Beau...|        934|\n",
      "|  Pizza, Restaurants|        823|\n",
      "|Restaurants, Mexican|        728|\n",
      "|Restaurants, Chinese|        708|\n",
      "|Mexican, Restaurants|        672|\n",
      "|Chinese, Restaurants|        651|\n",
      "|  Food, Coffee & Tea|        508|\n",
      "|Beauty & Spas, Ha...|        493|\n",
      "+--------------------+-----------+\n",
      "\n"
     ]
    }
   ],
   "source": [
    "#top 10 categories with more stars\n",
    "output=spark.sql('''\n",
    "SELECT categories, count(stars) AS total_stars\n",
    "FROM business_table\n",
    "GROUP BY categories\n",
    "ORDER BY total_stars DESC\n",
    "LIMIT 10\n",
    "''')\n",
    "output.show()\n",
    "output.write.option(\"header\",True).csv(\"C:/Supriyaa-spark-notes/tableau files/Business/top_ten_cat_stars.csv\")"
   ]
  },
  {
   "cell_type": "code",
   "execution_count": 33,
   "id": "5fbeaaa6",
   "metadata": {},
   "outputs": [
    {
     "name": "stdout",
     "output_type": "stream",
     "text": [
      "+--------------------+------------+\n",
      "|          categories|total_review|\n",
      "+--------------------+------------+\n",
      "|Mexican, Restaurants|       53043|\n",
      "|Restaurants, Mexican|       52996|\n",
      "|  Restaurants, Pizza|       32746|\n",
      "|  Pizza, Restaurants|       28477|\n",
      "|Beauty & Spas, Na...|       27484|\n",
      "|Restaurants, Italian|       26320|\n",
      "|Italian, Restaurants|       25388|\n",
      "|Restaurants, Chinese|       23985|\n",
      "|Nail Salons, Beau...|       23100|\n",
      "|Chinese, Restaurants|       22071|\n",
      "+--------------------+------------+\n",
      "\n"
     ]
    }
   ],
   "source": [
    "#top 10 categories with more review_counts\n",
    "output=spark.sql('''\n",
    "SELECT categories, sum(review_count) AS total_review\n",
    "FROM business_table\n",
    "GROUP BY categories\n",
    "ORDER BY total_review DESC\n",
    "LIMIT 10\n",
    "''')\n",
    "output.show()\n",
    "output.write.option(\"header\",True).csv(\"C:/Supriyaa-spark-notes/tableau files/Business/top_ten_cat_review.csv\")"
   ]
  },
  {
   "cell_type": "code",
   "execution_count": 34,
   "id": "1cac23e2",
   "metadata": {},
   "outputs": [
    {
     "name": "stdout",
     "output_type": "stream",
     "text": [
      "+--------------------+------------+\n",
      "|                name|total_review|\n",
      "+--------------------+------------+\n",
      "|           Starbucks|       20692|\n",
      "|          McDonald's|       17359|\n",
      "|             Dunkin'|        9864|\n",
      "|Chipotle Mexican ...|        9383|\n",
      "|         First Watch|        8921|\n",
      "|   Acme Oyster House|        8372|\n",
      "|           Taco Bell|        8325|\n",
      "|         Chick-fil-A|        8004|\n",
      "|        Oceana Grill|        7400|\n",
      "|        Panera Bread|        7246|\n",
      "+--------------------+------------+\n",
      "\n"
     ]
    }
   ],
   "source": [
    "#top 10 businesses with more review_counts\n",
    "output=spark.sql('''\n",
    "SELECT name, sum(review_count) AS total_review\n",
    "FROM business_table\n",
    "GROUP BY name\n",
    "ORDER BY total_review DESC\n",
    "LIMIT 10\n",
    "''')\n",
    "output.show()\n",
    "output.write.option(\"header\",True).csv(\"C:/Supriyaa-spark-notes/tableau files/Business/top_ten_bus_review.csv\")"
   ]
  },
  {
   "cell_type": "code",
   "execution_count": 35,
   "id": "fbc01abe",
   "metadata": {},
   "outputs": [
    {
     "name": "stdout",
     "output_type": "stream",
     "text": [
      "+------------+-----------+\n",
      "|        name|total_stars|\n",
      "+------------+-----------+\n",
      "|   Starbucks|        724|\n",
      "|  McDonald's|        703|\n",
      "|     Dunkin'|        510|\n",
      "|      Subway|        459|\n",
      "|   Taco Bell|        365|\n",
      "|CVS Pharmacy|        345|\n",
      "|   Walgreens|        341|\n",
      "| Burger King|        338|\n",
      "|     Wendy's|        331|\n",
      "|        Wawa|        307|\n",
      "+------------+-----------+\n",
      "\n"
     ]
    }
   ],
   "source": [
    "#top 10 businesses with more stars\n",
    "output=spark.sql('''\n",
    "SELECT name, count(stars) AS total_stars\n",
    "FROM business_table\n",
    "GROUP BY name\n",
    "ORDER BY total_stars DESC\n",
    "LIMIT 10\n",
    "''')\n",
    "output.show()\n",
    "output.write.option(\"header\",True).csv(\"C:/Supriyaa-spark-notes/tableau files/Business/top_ten_bus_stars.csv\")"
   ]
  },
  {
   "cell_type": "code",
   "execution_count": 65,
   "id": "0f6dda5e",
   "metadata": {},
   "outputs": [
    {
     "name": "stdout",
     "output_type": "stream",
     "text": [
      "+---------+-----+\n",
      "|     name|total|\n",
      "+---------+-----+\n",
      "|Starbucks|  724|\n",
      "+---------+-----+\n",
      "\n"
     ]
    }
   ],
   "source": [
    "#top business based on its count\n",
    "spark.sql('''\n",
    "select  name, count(name) as total\n",
    "from business_table\n",
    "group by name\n",
    "having count(name)=\n",
    "(\n",
    "    SELECT MAX(bus_count)\n",
    "    FROM (\n",
    "        SELECT COUNT(*) AS bus_count\n",
    "        FROM business_table\n",
    "        GROUP BY name\n",
    "    )\n",
    ")\n",
    "''').show()"
   ]
  },
  {
   "cell_type": "code",
   "execution_count": 36,
   "id": "16fc97f3",
   "metadata": {},
   "outputs": [
    {
     "name": "stdout",
     "output_type": "stream",
     "text": [
      "+--------------------+---------+\n",
      "|                name|total_bus|\n",
      "+--------------------+---------+\n",
      "|           Starbucks|      724|\n",
      "|          McDonald's|      703|\n",
      "|             Dunkin'|      510|\n",
      "|              Subway|      459|\n",
      "|           Taco Bell|      365|\n",
      "|        CVS Pharmacy|      345|\n",
      "|           Walgreens|      341|\n",
      "|         Burger King|      338|\n",
      "|             Wendy's|      331|\n",
      "|                Wawa|      307|\n",
      "|      Domino's Pizza|      295|\n",
      "|       The UPS Store|      281|\n",
      "|           Pizza Hut|      272|\n",
      "|Enterprise Rent-A...|      232|\n",
      "|   Papa John's Pizza|      196|\n",
      "|         Great Clips|      185|\n",
      "|        Jimmy John's|      175|\n",
      "|      US Post Office|      174|\n",
      "|                 KFC|      171|\n",
      "|         Chick-fil-A|      162|\n",
      "+--------------------+---------+\n",
      "\n"
     ]
    }
   ],
   "source": [
    "#top 20 business based on its count\n",
    "output=spark.sql('''\n",
    "SELECT name, count(name) AS total_bus\n",
    "FROM business_table\n",
    "GROUP BY name\n",
    "ORDER BY total_bus DESC\n",
    "LIMIT 20\n",
    "''')\n",
    "output.show()\n",
    "output.write.option(\"header\",True).csv(\"C:/Supriyaa-spark-notes/tableau files/Business/top_twenty_bus_count.csv\")"
   ]
  },
  {
   "cell_type": "code",
   "execution_count": 6,
   "id": "12b5ece4",
   "metadata": {},
   "outputs": [],
   "source": [
    "#Function that returns Y/N if business is available in the Morning/Night based on hours_df\n",
    "def availability(t):\n",
    "    if t is None:\n",
    "        return [None,None]\n",
    "    l=[]\n",
    "    start_t,end_t=t.split('-')\n",
    "    hour,time=start_t.split(':')\n",
    "    if int(hour)<= 12 or int(hour)==0:\n",
    "        l.append('Y')\n",
    "    else:\n",
    "        l.append('N')\n",
    "    hour,time=end_t.split(':')\n",
    "    if int(hour)> 12 or int(hour)==0:\n",
    "        l.append('Y')\n",
    "    else:\n",
    "        l.append('N')\n",
    "    return l"
   ]
  },
  {
   "cell_type": "code",
   "execution_count": 7,
   "id": "bed5ad29",
   "metadata": {},
   "outputs": [],
   "source": [
    "def star_weights(stars):\n",
    "    if stars>=3 and stars<=5:\n",
    "        return  500\n",
    "    elif stars>=1 and stars<3:\n",
    "        return  250\n",
    "    else:\n",
    "        return 0"
   ]
  },
  {
   "cell_type": "code",
   "execution_count": 8,
   "id": "e41f4343",
   "metadata": {},
   "outputs": [],
   "source": [
    "def review_weights(review_count):\n",
    "    if review_count<= 20692 and review_count>8000:\n",
    "        return 100\n",
    "    elif review_count<= 8000 and review_count>1000:\n",
    "        return 200\n",
    "    elif review_count<=1000 and review_count>=500:\n",
    "        return 100\n",
    "    elif review_count<=500 and review_count>=100:\n",
    "        return 50\n",
    "    elif review_count<=100 and review_count>=50:\n",
    "        return 25\n",
    "    elif review_count<=50 and review_count>=20:\n",
    "        return 15\n",
    "    elif review_count<=20 and review_count>=1:\n",
    "        return 5\n",
    "    else:\n",
    "        return 0"
   ]
  },
  {
   "cell_type": "code",
   "execution_count": 9,
   "id": "9a7c61a2",
   "metadata": {},
   "outputs": [],
   "source": [
    "def open_weights(is_open):\n",
    "    if is_open==1:\n",
    "        return 50\n",
    "    elif is_open==0:\n",
    "        return 10\n",
    "    else:\n",
    "        return 0"
   ]
  },
  {
   "cell_type": "code",
   "execution_count": 10,
   "id": "eafaba93",
   "metadata": {},
   "outputs": [],
   "source": [
    "def count_name_weights(total_bus):\n",
    "    if total_bus<=800 and total_bus>500:\n",
    "        return 100\n",
    "    elif total_bus<=500 and total_bus>100:\n",
    "        return 70\n",
    "    elif total_bus<=100 and total_bus>0:\n",
    "        return 40\n",
    "    else:\n",
    "        return 0"
   ]
  },
  {
   "cell_type": "code",
   "execution_count": 11,
   "id": "3288988b",
   "metadata": {},
   "outputs": [],
   "source": [
    "# converting python function to spark UDF (user defined function)\n",
    "udf_availability = udf(availability, ArrayType(StringType())) #mention function name and its return type\n",
    "udf_star_weights = udf(star_weights,IntegerType())\n",
    "udf_review_weights = udf(review_weights,IntegerType())\n",
    "udf_open_weights = udf(open_weights,IntegerType())\n",
    "udf_count_name_weights = udf(count_name_weights,IntegerType())"
   ]
  },
  {
   "cell_type": "code",
   "execution_count": 12,
   "id": "2bfdd2b8",
   "metadata": {},
   "outputs": [
    {
     "data": {
      "text/plain": [
       "<function __main__.count_name_weights(total_bus)>"
      ]
     },
     "execution_count": 12,
     "metadata": {},
     "output_type": "execute_result"
    }
   ],
   "source": [
    "# Registering the function in spark with any name or same name to use in spark SQL\n",
    "spark.udf.register(\"udf_availability\", udf_availability)\n",
    "spark.udf.register(\"udf_star_weights\", udf_star_weights)\n",
    "spark.udf.register(\"udf_review_weights\", udf_review_weights)\n",
    "spark.udf.register(\"udf_open_weights\", udf_open_weights)\n",
    "spark.udf.register(\"udf_count_name_weights\", udf_count_name_weights)"
   ]
  },
  {
   "cell_type": "code",
   "execution_count": 17,
   "id": "89547ed6",
   "metadata": {},
   "outputs": [
    {
     "name": "stdout",
     "output_type": "stream",
     "text": [
      "+----------------------+------------+-----+--------+-------+---------+------------+----------+------------+\n",
      "|business_id           |review_count|stars|tot_name|is_open|Monday   |morning_flag|night_flag|custom_score|\n",
      "+----------------------+------------+-----+--------+-------+---------+------------+----------+------------+\n",
      "|5oX4G1cptixPZecih9L3dg|1147        |4.0  |1       |1      |0:0-0:0  |Y           |Y         |820.0       |\n",
      "|gTC8IQ_i8zXytWSly3Ttvg|3837        |4.5  |2       |1      |11:0-22:0|Y           |Y         |820.0       |\n",
      "|3WU1ZobAqXQ07xYoKE2Vyg|1437        |3.5  |1       |1      |7:0-14:0 |Y           |Y         |820.0       |\n",
      "|Ih6_y2nnbg2Jw9Qdc876GA|1106        |4.0  |8       |1      |0:0-0:0  |Y           |Y         |820.0       |\n",
      "|bp5Mk2d0qofUeF5uLauIbg|1350        |4.5  |1       |1      |0:0-0:0  |Y           |Y         |820.0       |\n",
      "|Rl42JbSMsmNW3LRjsTMYAg|1270        |4.0  |2       |1      |11:0-23:0|Y           |Y         |820.0       |\n",
      "|cE_gYW3CHEducTkEyxTDdA|1368        |4.0  |3       |1      |0:0-0:0  |Y           |Y         |820.0       |\n",
      "|4szMVHmGXodrVGw4Zhev9g|1447        |4.5  |3       |1      |11:0-23:0|Y           |Y         |820.0       |\n",
      "|I6L0Zxi5Ww0zEWSAVgngeQ|1066        |3.5  |1       |1      |0:0-0:0  |Y           |Y         |820.0       |\n",
      "|_ab50qdWOk0DdB6XOrBitw|7568        |4.0  |3       |1      |11:0-22:0|Y           |Y         |820.0       |\n",
      "|qY-BUQY-SFBaSrFHowF3nA|1213        |4.0  |1       |1      |12:0-23:0|Y           |Y         |820.0       |\n",
      "|V9VLhHdSFpFi4yXFqVcVEA|1926        |4.0  |1       |1      |11:0-21:0|Y           |Y         |820.0       |\n",
      "|2DTkzhmMpv5fIPKheePClA|1433        |4.5  |1       |1      |12:0-21:0|Y           |Y         |820.0       |\n",
      "|UGefDZNmnBztS0eoXWtHyQ|1335        |4.5  |2       |1      |0:0-0:0  |Y           |Y         |820.0       |\n",
      "|I_mCFePUG2MGuH-zuws7bA|1227        |4.5  |1       |1      |0:0-0:0  |Y           |Y         |820.0       |\n",
      "|gVU0U7gNBMQxKTzqmRtdLg|2040        |4.0  |1       |1      |11:0-23:0|Y           |Y         |820.0       |\n",
      "|Y2Pfil51rNvTd_lFHwzb_g|2688        |4.0  |1       |1      |0:0-0:0  |Y           |Y         |820.0       |\n",
      "|EQ-TZ2eeD_E0BHuvoaeG5Q|1379        |4.0  |1       |1      |10:0-15:0|Y           |Y         |820.0       |\n",
      "|M0r9lUn2gLFYgIwIfG8-bQ|1567        |3.5  |1       |1      |0:0-0:0  |Y           |Y         |820.0       |\n",
      "|8UPv1p9GW-BiZtQqUt8nOA|1646        |4.0  |1       |1      |0:0-0:0  |Y           |Y         |820.0       |\n",
      "+----------------------+------------+-----+--------+-------+---------+------------+----------+------------+\n",
      "only showing top 20 rows\n",
      "\n"
     ]
    }
   ],
   "source": [
    "#Assigning a custom score to each business\n",
    "output=spark.sql('''\n",
    "select \n",
    "business_id, \n",
    "    review_count,\n",
    "    stars,\n",
    "    tot_name,\n",
    "    is_open,\n",
    "    Monday,\n",
    "    morning_flag,\n",
    "    night_flag,\n",
    "    score + \n",
    "    DECODE(NVL(morning_flag,'NA'),'Y',10,'N',5,'NA',0) +\n",
    "    DECODE(NVL(night_flag,'NA'),'Y',20,'N',5,'NA',0)\n",
    "    as custom_score\n",
    "from \n",
    "(\n",
    "SELECT \n",
    "    business_id, \n",
    "    review_count,\n",
    "    stars,\n",
    "    tot_name,\n",
    "    is_open,\n",
    "    Monday,\n",
    "    udf_star_weights(NVL(stars,0)) +\n",
    "    udf_review_weights(NVL(review_count,0)) +\n",
    "    udf_open_weights(NVL(is_open,-1)) +\n",
    "    udf_count_name_weights(NVL(tot_name,0))\n",
    "    AS score,\n",
    "    CASE \n",
    "        WHEN Monday IS NOT NULL THEN udf_availability(Monday)[0]\n",
    "        ELSE NULL\n",
    "    END AS morning_flag,\n",
    "    CASE \n",
    "        WHEN Monday IS NOT NULL THEN udf_availability(Monday)[1] \n",
    "        ELSE NULL\n",
    "    END AS night_flag\n",
    "FROM \n",
    "(\n",
    "    SELECT \n",
    "        b.business_id,\n",
    "        b.review_count,\n",
    "        b.stars,\n",
    "        COUNT(b.name) OVER (PARTITION BY b.name) AS tot_name,\n",
    "        b.is_open,\n",
    "        h.Monday\n",
    "    FROM\n",
    "        business_table b,\n",
    "        hours_table h\n",
    "    WHERE 1=1\n",
    "    AND b.business_id = h.business_id\n",
    "    --and b.business_id ='mpf3x-BjTdTEA3yCZrAYPw'\n",
    "    )\n",
    ")\n",
    "order by custom_score desc\n",
    "''')\n",
    "output.show(truncate=False)\n",
    "output.write.option(\"header\",True).csv(\"C:/Supriyaa-spark-notes/tableau files/Business/top_bus_custom_score.csv\")"
   ]
  },
  {
   "cell_type": "code",
   "execution_count": null,
   "id": "3a97add1",
   "metadata": {},
   "outputs": [],
   "source": []
  },
  {
   "cell_type": "code",
   "execution_count": null,
   "id": "b59fe04d",
   "metadata": {},
   "outputs": [],
   "source": []
  }
 ],
 "metadata": {
  "kernelspec": {
   "display_name": "Python 3 (ipykernel)",
   "language": "python",
   "name": "python3"
  },
  "language_info": {
   "codemirror_mode": {
    "name": "ipython",
    "version": 3
   },
   "file_extension": ".py",
   "mimetype": "text/x-python",
   "name": "python",
   "nbconvert_exporter": "python",
   "pygments_lexer": "ipython3",
   "version": "3.9.13"
  }
 },
 "nbformat": 4,
 "nbformat_minor": 5
}
